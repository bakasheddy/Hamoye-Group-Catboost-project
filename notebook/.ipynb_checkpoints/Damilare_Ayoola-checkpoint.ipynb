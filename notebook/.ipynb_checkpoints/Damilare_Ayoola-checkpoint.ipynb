{
 "cells": [
  {
   "cell_type": "markdown",
   "metadata": {
    "id": "i3Rm897u2idy"
   },
   "source": [
    "### Wrangling observation \n",
    "- winner_ioc should be renamed to winner_loc"
   ]
  },
  {
   "cell_type": "code",
   "execution_count": null,
   "metadata": {
    "id": "FmHRGN7sEpzq"
   },
   "outputs": [],
   "source": [
    "import numpy as np\n",
    "import pandas as pd\n",
    "import os\n",
    "import glob\n",
    "import seaborn as sns\n",
    "import matplotlib.pyplot as plt\n",
    "\n",
    "%matplotlib inline"
   ]
  },
  {
   "cell_type": "code",
   "execution_count": null,
   "metadata": {
    "id": "YJ-swmR9hfPF"
   },
   "outputs": [],
   "source": [
    "#loading and merging all the datasets\n",
    "folder_name = 'data'\n",
    "files = glob.glob(os.path.join(folder_name, \"*.csv\"))\n",
    "df = pd.concat((pd.read_csv(f, low_memory=False) for f in files), ignore_index = True)"
   ]
  },
  {
   "cell_type": "code",
   "execution_count": null,
   "metadata": {
    "colab": {
     "base_uri": "https://localhost:8080/",
     "height": 374
    },
    "id": "KjzGyOeUjLSA",
    "outputId": "bb3753fb-c975-47d6-c097-cb030467ae32"
   },
   "outputs": [
    {
     "data": {
      "text/html": [
       "<div>\n",
       "<style scoped>\n",
       "    .dataframe tbody tr th:only-of-type {\n",
       "        vertical-align: middle;\n",
       "    }\n",
       "\n",
       "    .dataframe tbody tr th {\n",
       "        vertical-align: top;\n",
       "    }\n",
       "\n",
       "    .dataframe thead th {\n",
       "        text-align: right;\n",
       "    }\n",
       "</style>\n",
       "<table border=\"1\" class=\"dataframe\">\n",
       "  <thead>\n",
       "    <tr style=\"text-align: right;\">\n",
       "      <th></th>\n",
       "      <th>tourney_id</th>\n",
       "      <th>tourney_name</th>\n",
       "      <th>surface</th>\n",
       "      <th>draw_size</th>\n",
       "      <th>tourney_level</th>\n",
       "      <th>tourney_date</th>\n",
       "      <th>match_num</th>\n",
       "      <th>winner_id</th>\n",
       "      <th>winner_seed</th>\n",
       "      <th>winner_entry</th>\n",
       "      <th>...</th>\n",
       "      <th>w_bpFaced</th>\n",
       "      <th>l_ace</th>\n",
       "      <th>l_df</th>\n",
       "      <th>l_svpt</th>\n",
       "      <th>l_1stIn</th>\n",
       "      <th>l_1stWon</th>\n",
       "      <th>l_2ndWon</th>\n",
       "      <th>l_SvGms</th>\n",
       "      <th>l_bpSaved</th>\n",
       "      <th>l_bpFaced</th>\n",
       "    </tr>\n",
       "  </thead>\n",
       "  <tbody>\n",
       "    <tr>\n",
       "      <th>0</th>\n",
       "      <td>2000-717</td>\n",
       "      <td>Orlando</td>\n",
       "      <td>Clay</td>\n",
       "      <td>32</td>\n",
       "      <td>A</td>\n",
       "      <td>20000501.0</td>\n",
       "      <td>1.0</td>\n",
       "      <td>102179</td>\n",
       "      <td>NaN</td>\n",
       "      <td>NaN</td>\n",
       "      <td>...</td>\n",
       "      <td>15.0</td>\n",
       "      <td>13.0</td>\n",
       "      <td>4.0</td>\n",
       "      <td>110.0</td>\n",
       "      <td>59.0</td>\n",
       "      <td>49.0</td>\n",
       "      <td>31.0</td>\n",
       "      <td>17.0</td>\n",
       "      <td>4.0</td>\n",
       "      <td>4.0</td>\n",
       "    </tr>\n",
       "    <tr>\n",
       "      <th>1</th>\n",
       "      <td>2000-717</td>\n",
       "      <td>Orlando</td>\n",
       "      <td>Clay</td>\n",
       "      <td>32</td>\n",
       "      <td>A</td>\n",
       "      <td>20000501.0</td>\n",
       "      <td>2.0</td>\n",
       "      <td>103602</td>\n",
       "      <td>NaN</td>\n",
       "      <td>Q</td>\n",
       "      <td>...</td>\n",
       "      <td>6.0</td>\n",
       "      <td>0.0</td>\n",
       "      <td>0.0</td>\n",
       "      <td>57.0</td>\n",
       "      <td>24.0</td>\n",
       "      <td>13.0</td>\n",
       "      <td>17.0</td>\n",
       "      <td>10.0</td>\n",
       "      <td>4.0</td>\n",
       "      <td>9.0</td>\n",
       "    </tr>\n",
       "    <tr>\n",
       "      <th>2</th>\n",
       "      <td>2000-717</td>\n",
       "      <td>Orlando</td>\n",
       "      <td>Clay</td>\n",
       "      <td>32</td>\n",
       "      <td>A</td>\n",
       "      <td>20000501.0</td>\n",
       "      <td>3.0</td>\n",
       "      <td>103387</td>\n",
       "      <td>NaN</td>\n",
       "      <td>NaN</td>\n",
       "      <td>...</td>\n",
       "      <td>0.0</td>\n",
       "      <td>2.0</td>\n",
       "      <td>2.0</td>\n",
       "      <td>65.0</td>\n",
       "      <td>39.0</td>\n",
       "      <td>22.0</td>\n",
       "      <td>10.0</td>\n",
       "      <td>8.0</td>\n",
       "      <td>6.0</td>\n",
       "      <td>10.0</td>\n",
       "    </tr>\n",
       "    <tr>\n",
       "      <th>3</th>\n",
       "      <td>2000-717</td>\n",
       "      <td>Orlando</td>\n",
       "      <td>Clay</td>\n",
       "      <td>32</td>\n",
       "      <td>A</td>\n",
       "      <td>20000501.0</td>\n",
       "      <td>4.0</td>\n",
       "      <td>101733</td>\n",
       "      <td>NaN</td>\n",
       "      <td>NaN</td>\n",
       "      <td>...</td>\n",
       "      <td>12.0</td>\n",
       "      <td>4.0</td>\n",
       "      <td>6.0</td>\n",
       "      <td>104.0</td>\n",
       "      <td>57.0</td>\n",
       "      <td>35.0</td>\n",
       "      <td>24.0</td>\n",
       "      <td>15.0</td>\n",
       "      <td>6.0</td>\n",
       "      <td>11.0</td>\n",
       "    </tr>\n",
       "    <tr>\n",
       "      <th>4</th>\n",
       "      <td>2000-717</td>\n",
       "      <td>Orlando</td>\n",
       "      <td>Clay</td>\n",
       "      <td>32</td>\n",
       "      <td>A</td>\n",
       "      <td>20000501.0</td>\n",
       "      <td>5.0</td>\n",
       "      <td>101727</td>\n",
       "      <td>4.0</td>\n",
       "      <td>NaN</td>\n",
       "      <td>...</td>\n",
       "      <td>1.0</td>\n",
       "      <td>0.0</td>\n",
       "      <td>3.0</td>\n",
       "      <td>47.0</td>\n",
       "      <td>28.0</td>\n",
       "      <td>17.0</td>\n",
       "      <td>10.0</td>\n",
       "      <td>8.0</td>\n",
       "      <td>3.0</td>\n",
       "      <td>6.0</td>\n",
       "    </tr>\n",
       "  </tbody>\n",
       "</table>\n",
       "<p>5 rows × 49 columns</p>\n",
       "</div>"
      ],
      "text/plain": [
       "  tourney_id tourney_name surface draw_size tourney_level  tourney_date  \\\n",
       "0   2000-717      Orlando    Clay        32             A    20000501.0   \n",
       "1   2000-717      Orlando    Clay        32             A    20000501.0   \n",
       "2   2000-717      Orlando    Clay        32             A    20000501.0   \n",
       "3   2000-717      Orlando    Clay        32             A    20000501.0   \n",
       "4   2000-717      Orlando    Clay        32             A    20000501.0   \n",
       "\n",
       "   match_num winner_id  winner_seed winner_entry  ... w_bpFaced l_ace  l_df  \\\n",
       "0        1.0    102179          NaN          NaN  ...      15.0  13.0   4.0   \n",
       "1        2.0    103602          NaN            Q  ...       6.0   0.0   0.0   \n",
       "2        3.0    103387          NaN          NaN  ...       0.0   2.0   2.0   \n",
       "3        4.0    101733          NaN          NaN  ...      12.0   4.0   6.0   \n",
       "4        5.0    101727          4.0          NaN  ...       1.0   0.0   3.0   \n",
       "\n",
       "  l_svpt  l_1stIn  l_1stWon  l_2ndWon  l_SvGms  l_bpSaved l_bpFaced  \n",
       "0  110.0     59.0      49.0      31.0     17.0        4.0       4.0  \n",
       "1   57.0     24.0      13.0      17.0     10.0        4.0       9.0  \n",
       "2   65.0     39.0      22.0      10.0      8.0        6.0      10.0  \n",
       "3  104.0     57.0      35.0      24.0     15.0        6.0      11.0  \n",
       "4   47.0     28.0      17.0      10.0      8.0        3.0       6.0  \n",
       "\n",
       "[5 rows x 49 columns]"
      ]
     },
     "execution_count": 3,
     "metadata": {},
     "output_type": "execute_result"
    }
   ],
   "source": [
    "df.head()"
   ]
  },
  {
   "cell_type": "code",
   "execution_count": null,
   "metadata": {
    "id": "-6jA08m_k53j"
   },
   "outputs": [],
   "source": [
    "#converting and formatting tourney_date\n",
    "df['tourney_date'] = df['tourney_date'].astype(str).apply(lambda x: pd.to_datetime(x, format='%Y%m%d', errors= 'coerce'))"
   ]
  },
  {
   "cell_type": "code",
   "execution_count": null,
   "metadata": {
    "id": "net5nAS1FIao"
   },
   "outputs": [],
   "source": [
    "#view of the entire data without collapse\n",
    "pd.set_option('display.max.column', None)"
   ]
  },
  {
   "cell_type": "code",
   "execution_count": null,
   "metadata": {
    "colab": {
     "base_uri": "https://localhost:8080/",
     "height": 931
    },
    "id": "jRR7fU-oFMTV",
    "outputId": "7c535fdb-280e-4b45-b36e-ae88d41879c3"
   },
   "outputs": [
    {
     "data": {
      "text/html": [
       "<div>\n",
       "<style scoped>\n",
       "    .dataframe tbody tr th:only-of-type {\n",
       "        vertical-align: middle;\n",
       "    }\n",
       "\n",
       "    .dataframe tbody tr th {\n",
       "        vertical-align: top;\n",
       "    }\n",
       "\n",
       "    .dataframe thead th {\n",
       "        text-align: right;\n",
       "    }\n",
       "</style>\n",
       "<table border=\"1\" class=\"dataframe\">\n",
       "  <thead>\n",
       "    <tr style=\"text-align: right;\">\n",
       "      <th></th>\n",
       "      <th>tourney_id</th>\n",
       "      <th>tourney_name</th>\n",
       "      <th>surface</th>\n",
       "      <th>draw_size</th>\n",
       "      <th>tourney_level</th>\n",
       "      <th>tourney_date</th>\n",
       "      <th>match_num</th>\n",
       "      <th>winner_id</th>\n",
       "      <th>winner_seed</th>\n",
       "      <th>winner_entry</th>\n",
       "      <th>winner_name</th>\n",
       "      <th>winner_hand</th>\n",
       "      <th>winner_ht</th>\n",
       "      <th>winner_ioc</th>\n",
       "      <th>winner_age</th>\n",
       "      <th>winner_rank</th>\n",
       "      <th>winner_rank_points</th>\n",
       "      <th>loser_id</th>\n",
       "      <th>loser_seed</th>\n",
       "      <th>loser_entry</th>\n",
       "      <th>loser_name</th>\n",
       "      <th>loser_hand</th>\n",
       "      <th>loser_ht</th>\n",
       "      <th>loser_ioc</th>\n",
       "      <th>loser_age</th>\n",
       "      <th>loser_rank</th>\n",
       "      <th>loser_rank_points</th>\n",
       "      <th>score</th>\n",
       "      <th>best_of</th>\n",
       "      <th>round</th>\n",
       "      <th>minutes</th>\n",
       "      <th>w_ace</th>\n",
       "      <th>w_df</th>\n",
       "      <th>w_svpt</th>\n",
       "      <th>w_1stIn</th>\n",
       "      <th>w_1stWon</th>\n",
       "      <th>w_2ndWon</th>\n",
       "      <th>w_SvGms</th>\n",
       "      <th>w_bpSaved</th>\n",
       "      <th>w_bpFaced</th>\n",
       "      <th>l_ace</th>\n",
       "      <th>l_df</th>\n",
       "      <th>l_svpt</th>\n",
       "      <th>l_1stIn</th>\n",
       "      <th>l_1stWon</th>\n",
       "      <th>l_2ndWon</th>\n",
       "      <th>l_SvGms</th>\n",
       "      <th>l_bpSaved</th>\n",
       "      <th>l_bpFaced</th>\n",
       "    </tr>\n",
       "  </thead>\n",
       "  <tbody>\n",
       "    <tr>\n",
       "      <th>42803</th>\n",
       "      <td>2013-321</td>\n",
       "      <td>Stuttgart</td>\n",
       "      <td>Clay</td>\n",
       "      <td>28</td>\n",
       "      <td>A</td>\n",
       "      <td>2013-07-08</td>\n",
       "      <td>23.0</td>\n",
       "      <td>103812</td>\n",
       "      <td>NaN</td>\n",
       "      <td>NaN</td>\n",
       "      <td>Victor Hanescu</td>\n",
       "      <td>R</td>\n",
       "      <td>198.0</td>\n",
       "      <td>ROU</td>\n",
       "      <td>31.964408</td>\n",
       "      <td>51.0</td>\n",
       "      <td>857.0</td>\n",
       "      <td>105332.0</td>\n",
       "      <td>4.0</td>\n",
       "      <td>NaN</td>\n",
       "      <td>Benoit Paire</td>\n",
       "      <td>R</td>\n",
       "      <td>196.0</td>\n",
       "      <td>FRA</td>\n",
       "      <td>24.167009</td>\n",
       "      <td>27.0</td>\n",
       "      <td>1380.0</td>\n",
       "      <td>7-5 6-2</td>\n",
       "      <td>3.0</td>\n",
       "      <td>QF</td>\n",
       "      <td>72.0</td>\n",
       "      <td>5.0</td>\n",
       "      <td>1.0</td>\n",
       "      <td>58.0</td>\n",
       "      <td>42.0</td>\n",
       "      <td>32.0</td>\n",
       "      <td>10.0</td>\n",
       "      <td>10.0</td>\n",
       "      <td>1.0</td>\n",
       "      <td>1.0</td>\n",
       "      <td>3.0</td>\n",
       "      <td>7.0</td>\n",
       "      <td>62.0</td>\n",
       "      <td>26.0</td>\n",
       "      <td>18.0</td>\n",
       "      <td>17.0</td>\n",
       "      <td>10.0</td>\n",
       "      <td>3.0</td>\n",
       "      <td>6.0</td>\n",
       "    </tr>\n",
       "    <tr>\n",
       "      <th>6204</th>\n",
       "      <td>2001-325</td>\n",
       "      <td>Palermo</td>\n",
       "      <td>Clay</td>\n",
       "      <td>32</td>\n",
       "      <td>A</td>\n",
       "      <td>2001-09-24</td>\n",
       "      <td>17.0</td>\n",
       "      <td>103151</td>\n",
       "      <td>NaN</td>\n",
       "      <td>NaN</td>\n",
       "      <td>Mariano Zabaleta</td>\n",
       "      <td>R</td>\n",
       "      <td>183.0</td>\n",
       "      <td>ARG</td>\n",
       "      <td>23.570157</td>\n",
       "      <td>61.0</td>\n",
       "      <td>647.0</td>\n",
       "      <td>102374.0</td>\n",
       "      <td>1.0</td>\n",
       "      <td>NaN</td>\n",
       "      <td>Alex Corretja</td>\n",
       "      <td>R</td>\n",
       "      <td>180.0</td>\n",
       "      <td>ESP</td>\n",
       "      <td>27.455168</td>\n",
       "      <td>11.0</td>\n",
       "      <td>1895.0</td>\n",
       "      <td>6-4 7-5</td>\n",
       "      <td>3.0</td>\n",
       "      <td>R16</td>\n",
       "      <td>100.0</td>\n",
       "      <td>6.0</td>\n",
       "      <td>1.0</td>\n",
       "      <td>69.0</td>\n",
       "      <td>42.0</td>\n",
       "      <td>29.0</td>\n",
       "      <td>16.0</td>\n",
       "      <td>11.0</td>\n",
       "      <td>4.0</td>\n",
       "      <td>6.0</td>\n",
       "      <td>6.0</td>\n",
       "      <td>5.0</td>\n",
       "      <td>63.0</td>\n",
       "      <td>20.0</td>\n",
       "      <td>13.0</td>\n",
       "      <td>22.0</td>\n",
       "      <td>11.0</td>\n",
       "      <td>2.0</td>\n",
       "      <td>6.0</td>\n",
       "    </tr>\n",
       "    <tr>\n",
       "      <th>37723</th>\n",
       "      <td>2011-505</td>\n",
       "      <td>Santiago</td>\n",
       "      <td>Clay</td>\n",
       "      <td>32</td>\n",
       "      <td>A</td>\n",
       "      <td>2011-01-31</td>\n",
       "      <td>11.0</td>\n",
       "      <td>104349</td>\n",
       "      <td>NaN</td>\n",
       "      <td>NaN</td>\n",
       "      <td>Rui Machado</td>\n",
       "      <td>R</td>\n",
       "      <td>178.0</td>\n",
       "      <td>POR</td>\n",
       "      <td>26.809035</td>\n",
       "      <td>87.0</td>\n",
       "      <td>575.0</td>\n",
       "      <td>105941.0</td>\n",
       "      <td>NaN</td>\n",
       "      <td>WC</td>\n",
       "      <td>Felipe Rios</td>\n",
       "      <td>R</td>\n",
       "      <td>NaN</td>\n",
       "      <td>CHI</td>\n",
       "      <td>18.910335</td>\n",
       "      <td>1285.0</td>\n",
       "      <td>2.0</td>\n",
       "      <td>6-2 6-0</td>\n",
       "      <td>3.0</td>\n",
       "      <td>R32</td>\n",
       "      <td>58.0</td>\n",
       "      <td>2.0</td>\n",
       "      <td>5.0</td>\n",
       "      <td>42.0</td>\n",
       "      <td>21.0</td>\n",
       "      <td>17.0</td>\n",
       "      <td>12.0</td>\n",
       "      <td>7.0</td>\n",
       "      <td>0.0</td>\n",
       "      <td>0.0</td>\n",
       "      <td>0.0</td>\n",
       "      <td>6.0</td>\n",
       "      <td>44.0</td>\n",
       "      <td>29.0</td>\n",
       "      <td>15.0</td>\n",
       "      <td>3.0</td>\n",
       "      <td>7.0</td>\n",
       "      <td>0.0</td>\n",
       "      <td>5.0</td>\n",
       "    </tr>\n",
       "    <tr>\n",
       "      <th>44059</th>\n",
       "      <td>2013-D015</td>\n",
       "      <td>Davis Cup WG F: SRB vs CZE</td>\n",
       "      <td>Hard</td>\n",
       "      <td>4</td>\n",
       "      <td>D</td>\n",
       "      <td>2013-11-15</td>\n",
       "      <td>1.0</td>\n",
       "      <td>104925</td>\n",
       "      <td>NaN</td>\n",
       "      <td>NaN</td>\n",
       "      <td>Novak Djokovic</td>\n",
       "      <td>R</td>\n",
       "      <td>188.0</td>\n",
       "      <td>SRB</td>\n",
       "      <td>26.475017</td>\n",
       "      <td>2.0</td>\n",
       "      <td>12110.0</td>\n",
       "      <td>103285.0</td>\n",
       "      <td>NaN</td>\n",
       "      <td>NaN</td>\n",
       "      <td>Radek Stepanek</td>\n",
       "      <td>R</td>\n",
       "      <td>185.0</td>\n",
       "      <td>CZE</td>\n",
       "      <td>34.956879</td>\n",
       "      <td>44.0</td>\n",
       "      <td>970.0</td>\n",
       "      <td>7-5 6-1 6-4</td>\n",
       "      <td>5.0</td>\n",
       "      <td>RR</td>\n",
       "      <td>NaN</td>\n",
       "      <td>NaN</td>\n",
       "      <td>NaN</td>\n",
       "      <td>NaN</td>\n",
       "      <td>NaN</td>\n",
       "      <td>NaN</td>\n",
       "      <td>NaN</td>\n",
       "      <td>NaN</td>\n",
       "      <td>NaN</td>\n",
       "      <td>NaN</td>\n",
       "      <td>NaN</td>\n",
       "      <td>NaN</td>\n",
       "      <td>NaN</td>\n",
       "      <td>NaN</td>\n",
       "      <td>NaN</td>\n",
       "      <td>NaN</td>\n",
       "      <td>NaN</td>\n",
       "      <td>NaN</td>\n",
       "      <td>NaN</td>\n",
       "    </tr>\n",
       "    <tr>\n",
       "      <th>6015</th>\n",
       "      <td>2001-717</td>\n",
       "      <td>Houston</td>\n",
       "      <td>Clay</td>\n",
       "      <td>32</td>\n",
       "      <td>A</td>\n",
       "      <td>2001-04-30</td>\n",
       "      <td>30.0</td>\n",
       "      <td>102703</td>\n",
       "      <td>8.0</td>\n",
       "      <td>NaN</td>\n",
       "      <td>Hyung Taik Lee</td>\n",
       "      <td>R</td>\n",
       "      <td>180.0</td>\n",
       "      <td>KOR</td>\n",
       "      <td>25.322382</td>\n",
       "      <td>81.0</td>\n",
       "      <td>527.0</td>\n",
       "      <td>103420.0</td>\n",
       "      <td>4.0</td>\n",
       "      <td>NaN</td>\n",
       "      <td>Michal Tabara</td>\n",
       "      <td>R</td>\n",
       "      <td>175.0</td>\n",
       "      <td>CZE</td>\n",
       "      <td>21.719370</td>\n",
       "      <td>73.0</td>\n",
       "      <td>603.0</td>\n",
       "      <td>4-6 6-2 6-1</td>\n",
       "      <td>3.0</td>\n",
       "      <td>SF</td>\n",
       "      <td>84.0</td>\n",
       "      <td>4.0</td>\n",
       "      <td>4.0</td>\n",
       "      <td>77.0</td>\n",
       "      <td>42.0</td>\n",
       "      <td>33.0</td>\n",
       "      <td>20.0</td>\n",
       "      <td>13.0</td>\n",
       "      <td>0.0</td>\n",
       "      <td>2.0</td>\n",
       "      <td>1.0</td>\n",
       "      <td>4.0</td>\n",
       "      <td>69.0</td>\n",
       "      <td>47.0</td>\n",
       "      <td>28.0</td>\n",
       "      <td>10.0</td>\n",
       "      <td>12.0</td>\n",
       "      <td>3.0</td>\n",
       "      <td>8.0</td>\n",
       "    </tr>\n",
       "    <tr>\n",
       "      <th>39887</th>\n",
       "      <td>2012-96</td>\n",
       "      <td>London Olympics</td>\n",
       "      <td>Grass</td>\n",
       "      <td>64</td>\n",
       "      <td>A</td>\n",
       "      <td>2012-07-25</td>\n",
       "      <td>22.0</td>\n",
       "      <td>104571</td>\n",
       "      <td>NaN</td>\n",
       "      <td>NaN</td>\n",
       "      <td>Marcos Baghdatis</td>\n",
       "      <td>R</td>\n",
       "      <td>183.0</td>\n",
       "      <td>CYP</td>\n",
       "      <td>27.099247</td>\n",
       "      <td>44.0</td>\n",
       "      <td>945.0</td>\n",
       "      <td>104424.0</td>\n",
       "      <td>NaN</td>\n",
       "      <td>NaN</td>\n",
       "      <td>Go Soeda</td>\n",
       "      <td>R</td>\n",
       "      <td>178.0</td>\n",
       "      <td>JPN</td>\n",
       "      <td>27.879535</td>\n",
       "      <td>47.0</td>\n",
       "      <td>888.0</td>\n",
       "      <td>6-7(6) 7-6(5) 6-2</td>\n",
       "      <td>3.0</td>\n",
       "      <td>R64</td>\n",
       "      <td>146.0</td>\n",
       "      <td>13.0</td>\n",
       "      <td>9.0</td>\n",
       "      <td>115.0</td>\n",
       "      <td>62.0</td>\n",
       "      <td>49.0</td>\n",
       "      <td>26.0</td>\n",
       "      <td>16.0</td>\n",
       "      <td>5.0</td>\n",
       "      <td>7.0</td>\n",
       "      <td>1.0</td>\n",
       "      <td>3.0</td>\n",
       "      <td>102.0</td>\n",
       "      <td>55.0</td>\n",
       "      <td>35.0</td>\n",
       "      <td>28.0</td>\n",
       "      <td>16.0</td>\n",
       "      <td>4.0</td>\n",
       "      <td>8.0</td>\n",
       "    </tr>\n",
       "    <tr>\n",
       "      <th>48620</th>\n",
       "      <td>2015-741</td>\n",
       "      <td>Nottingham</td>\n",
       "      <td>Grass</td>\n",
       "      <td>48</td>\n",
       "      <td>A</td>\n",
       "      <td>2015-06-21</td>\n",
       "      <td>44.0</td>\n",
       "      <td>105023</td>\n",
       "      <td>12.0</td>\n",
       "      <td>NaN</td>\n",
       "      <td>Sam Querrey</td>\n",
       "      <td>R</td>\n",
       "      <td>198.0</td>\n",
       "      <td>USA</td>\n",
       "      <td>27.707050</td>\n",
       "      <td>44.0</td>\n",
       "      <td>1010.0</td>\n",
       "      <td>104468.0</td>\n",
       "      <td>2.0</td>\n",
       "      <td>NaN</td>\n",
       "      <td>Gilles Simon</td>\n",
       "      <td>R</td>\n",
       "      <td>183.0</td>\n",
       "      <td>FRA</td>\n",
       "      <td>30.483231</td>\n",
       "      <td>13.0</td>\n",
       "      <td>2435.0</td>\n",
       "      <td>5-7 7-6(8) 6-4</td>\n",
       "      <td>3.0</td>\n",
       "      <td>QF</td>\n",
       "      <td>NaN</td>\n",
       "      <td>26.0</td>\n",
       "      <td>4.0</td>\n",
       "      <td>108.0</td>\n",
       "      <td>69.0</td>\n",
       "      <td>57.0</td>\n",
       "      <td>16.0</td>\n",
       "      <td>17.0</td>\n",
       "      <td>5.0</td>\n",
       "      <td>8.0</td>\n",
       "      <td>7.0</td>\n",
       "      <td>2.0</td>\n",
       "      <td>99.0</td>\n",
       "      <td>57.0</td>\n",
       "      <td>45.0</td>\n",
       "      <td>26.0</td>\n",
       "      <td>17.0</td>\n",
       "      <td>3.0</td>\n",
       "      <td>6.0</td>\n",
       "    </tr>\n",
       "    <tr>\n",
       "      <th>27241</th>\n",
       "      <td>2008-315</td>\n",
       "      <td>Newport</td>\n",
       "      <td>Grass</td>\n",
       "      <td>28</td>\n",
       "      <td>A</td>\n",
       "      <td>2008-07-07</td>\n",
       "      <td>20.0</td>\n",
       "      <td>102148</td>\n",
       "      <td>2.0</td>\n",
       "      <td>NaN</td>\n",
       "      <td>Fabrice Santoro</td>\n",
       "      <td>R</td>\n",
       "      <td>178.0</td>\n",
       "      <td>FRA</td>\n",
       "      <td>35.575633</td>\n",
       "      <td>57.0</td>\n",
       "      <td>691.0</td>\n",
       "      <td>103529.0</td>\n",
       "      <td>NaN</td>\n",
       "      <td>NaN</td>\n",
       "      <td>Aisam Ul Haq Qureshi</td>\n",
       "      <td>R</td>\n",
       "      <td>183.0</td>\n",
       "      <td>PAK</td>\n",
       "      <td>28.306639</td>\n",
       "      <td>169.0</td>\n",
       "      <td>234.0</td>\n",
       "      <td>7-6(4) 6-2</td>\n",
       "      <td>3.0</td>\n",
       "      <td>R16</td>\n",
       "      <td>85.0</td>\n",
       "      <td>3.0</td>\n",
       "      <td>1.0</td>\n",
       "      <td>53.0</td>\n",
       "      <td>31.0</td>\n",
       "      <td>26.0</td>\n",
       "      <td>17.0</td>\n",
       "      <td>10.0</td>\n",
       "      <td>0.0</td>\n",
       "      <td>0.0</td>\n",
       "      <td>2.0</td>\n",
       "      <td>3.0</td>\n",
       "      <td>70.0</td>\n",
       "      <td>40.0</td>\n",
       "      <td>29.0</td>\n",
       "      <td>12.0</td>\n",
       "      <td>10.0</td>\n",
       "      <td>4.0</td>\n",
       "      <td>6.0</td>\n",
       "    </tr>\n",
       "    <tr>\n",
       "      <th>1588</th>\n",
       "      <td>2000-499</td>\n",
       "      <td>Delray Beach</td>\n",
       "      <td>Hard</td>\n",
       "      <td>32</td>\n",
       "      <td>A</td>\n",
       "      <td>2000-02-28</td>\n",
       "      <td>16.0</td>\n",
       "      <td>102925</td>\n",
       "      <td>NaN</td>\n",
       "      <td>NaN</td>\n",
       "      <td>Justin Gimelstob</td>\n",
       "      <td>R</td>\n",
       "      <td>196.0</td>\n",
       "      <td>USA</td>\n",
       "      <td>23.088296</td>\n",
       "      <td>96.0</td>\n",
       "      <td>426.0</td>\n",
       "      <td>102223.0</td>\n",
       "      <td>2.0</td>\n",
       "      <td>NaN</td>\n",
       "      <td>Karim Alami</td>\n",
       "      <td>R</td>\n",
       "      <td>185.0</td>\n",
       "      <td>MAR</td>\n",
       "      <td>26.765229</td>\n",
       "      <td>25.0</td>\n",
       "      <td>1058.0</td>\n",
       "      <td>6-4 2-6 7-6(2)</td>\n",
       "      <td>3.0</td>\n",
       "      <td>R32</td>\n",
       "      <td>145.0</td>\n",
       "      <td>4.0</td>\n",
       "      <td>5.0</td>\n",
       "      <td>109.0</td>\n",
       "      <td>67.0</td>\n",
       "      <td>44.0</td>\n",
       "      <td>25.0</td>\n",
       "      <td>15.0</td>\n",
       "      <td>9.0</td>\n",
       "      <td>12.0</td>\n",
       "      <td>3.0</td>\n",
       "      <td>7.0</td>\n",
       "      <td>102.0</td>\n",
       "      <td>58.0</td>\n",
       "      <td>42.0</td>\n",
       "      <td>22.0</td>\n",
       "      <td>15.0</td>\n",
       "      <td>5.0</td>\n",
       "      <td>7.0</td>\n",
       "    </tr>\n",
       "    <tr>\n",
       "      <th>15483</th>\n",
       "      <td>2004-352</td>\n",
       "      <td>Paris Masters</td>\n",
       "      <td>Carpet</td>\n",
       "      <td>48</td>\n",
       "      <td>M</td>\n",
       "      <td>2004-11-01</td>\n",
       "      <td>24.0</td>\n",
       "      <td>103285</td>\n",
       "      <td>NaN</td>\n",
       "      <td>Q</td>\n",
       "      <td>Radek Stepanek</td>\n",
       "      <td>R</td>\n",
       "      <td>185.0</td>\n",
       "      <td>CZE</td>\n",
       "      <td>25.930185</td>\n",
       "      <td>63.0</td>\n",
       "      <td>610.0</td>\n",
       "      <td>103812.0</td>\n",
       "      <td>NaN</td>\n",
       "      <td>LL</td>\n",
       "      <td>Victor Hanescu</td>\n",
       "      <td>R</td>\n",
       "      <td>198.0</td>\n",
       "      <td>ROU</td>\n",
       "      <td>23.282683</td>\n",
       "      <td>90.0</td>\n",
       "      <td>447.0</td>\n",
       "      <td>6-4 6-1</td>\n",
       "      <td>3.0</td>\n",
       "      <td>R32</td>\n",
       "      <td>54.0</td>\n",
       "      <td>6.0</td>\n",
       "      <td>1.0</td>\n",
       "      <td>39.0</td>\n",
       "      <td>29.0</td>\n",
       "      <td>24.0</td>\n",
       "      <td>8.0</td>\n",
       "      <td>8.0</td>\n",
       "      <td>0.0</td>\n",
       "      <td>0.0</td>\n",
       "      <td>5.0</td>\n",
       "      <td>4.0</td>\n",
       "      <td>58.0</td>\n",
       "      <td>36.0</td>\n",
       "      <td>25.0</td>\n",
       "      <td>5.0</td>\n",
       "      <td>9.0</td>\n",
       "      <td>1.0</td>\n",
       "      <td>5.0</td>\n",
       "    </tr>\n",
       "    <tr>\n",
       "      <th>21765</th>\n",
       "      <td>2006-425</td>\n",
       "      <td>Barcelona</td>\n",
       "      <td>Clay</td>\n",
       "      <td>56</td>\n",
       "      <td>A</td>\n",
       "      <td>2006-04-24</td>\n",
       "      <td>1.0</td>\n",
       "      <td>103852</td>\n",
       "      <td>NaN</td>\n",
       "      <td>NaN</td>\n",
       "      <td>Feliciano Lopez</td>\n",
       "      <td>L</td>\n",
       "      <td>188.0</td>\n",
       "      <td>ESP</td>\n",
       "      <td>24.591376</td>\n",
       "      <td>38.0</td>\n",
       "      <td>850.0</td>\n",
       "      <td>103657.0</td>\n",
       "      <td>NaN</td>\n",
       "      <td>Q</td>\n",
       "      <td>Ivo Klec</td>\n",
       "      <td>R</td>\n",
       "      <td>183.0</td>\n",
       "      <td>SVK</td>\n",
       "      <td>25.401780</td>\n",
       "      <td>233.0</td>\n",
       "      <td>158.0</td>\n",
       "      <td>4-6 6-4 6-4</td>\n",
       "      <td>3.0</td>\n",
       "      <td>R64</td>\n",
       "      <td>131.0</td>\n",
       "      <td>4.0</td>\n",
       "      <td>5.0</td>\n",
       "      <td>111.0</td>\n",
       "      <td>54.0</td>\n",
       "      <td>36.0</td>\n",
       "      <td>21.0</td>\n",
       "      <td>15.0</td>\n",
       "      <td>9.0</td>\n",
       "      <td>15.0</td>\n",
       "      <td>1.0</td>\n",
       "      <td>6.0</td>\n",
       "      <td>86.0</td>\n",
       "      <td>44.0</td>\n",
       "      <td>28.0</td>\n",
       "      <td>18.0</td>\n",
       "      <td>15.0</td>\n",
       "      <td>10.0</td>\n",
       "      <td>17.0</td>\n",
       "    </tr>\n",
       "    <tr>\n",
       "      <th>14089</th>\n",
       "      <td>2004-416</td>\n",
       "      <td>Rome Masters</td>\n",
       "      <td>Clay</td>\n",
       "      <td>64</td>\n",
       "      <td>M</td>\n",
       "      <td>2004-05-03</td>\n",
       "      <td>58.0</td>\n",
       "      <td>103900</td>\n",
       "      <td>5.0</td>\n",
       "      <td>NaN</td>\n",
       "      <td>David Nalbandian</td>\n",
       "      <td>R</td>\n",
       "      <td>180.0</td>\n",
       "      <td>ARG</td>\n",
       "      <td>22.335387</td>\n",
       "      <td>8.0</td>\n",
       "      <td>2085.0</td>\n",
       "      <td>102434.0</td>\n",
       "      <td>NaN</td>\n",
       "      <td>NaN</td>\n",
       "      <td>Vincent Spadea</td>\n",
       "      <td>R</td>\n",
       "      <td>183.0</td>\n",
       "      <td>USA</td>\n",
       "      <td>29.790554</td>\n",
       "      <td>34.0</td>\n",
       "      <td>950.0</td>\n",
       "      <td>6-4 6-3</td>\n",
       "      <td>3.0</td>\n",
       "      <td>QF</td>\n",
       "      <td>87.0</td>\n",
       "      <td>3.0</td>\n",
       "      <td>3.0</td>\n",
       "      <td>59.0</td>\n",
       "      <td>35.0</td>\n",
       "      <td>26.0</td>\n",
       "      <td>14.0</td>\n",
       "      <td>9.0</td>\n",
       "      <td>4.0</td>\n",
       "      <td>5.0</td>\n",
       "      <td>3.0</td>\n",
       "      <td>6.0</td>\n",
       "      <td>69.0</td>\n",
       "      <td>36.0</td>\n",
       "      <td>24.0</td>\n",
       "      <td>12.0</td>\n",
       "      <td>10.0</td>\n",
       "      <td>7.0</td>\n",
       "      <td>11.0</td>\n",
       "    </tr>\n",
       "    <tr>\n",
       "      <th>2602</th>\n",
       "      <td>2000-329</td>\n",
       "      <td>Tokyo</td>\n",
       "      <td>Hard</td>\n",
       "      <td>56</td>\n",
       "      <td>A</td>\n",
       "      <td>2000-10-09</td>\n",
       "      <td>8.0</td>\n",
       "      <td>102863</td>\n",
       "      <td>NaN</td>\n",
       "      <td>NaN</td>\n",
       "      <td>Takao Suzuki</td>\n",
       "      <td>R</td>\n",
       "      <td>175.0</td>\n",
       "      <td>JPN</td>\n",
       "      <td>24.052019</td>\n",
       "      <td>164.0</td>\n",
       "      <td>238.0</td>\n",
       "      <td>103240.0</td>\n",
       "      <td>NaN</td>\n",
       "      <td>NaN</td>\n",
       "      <td>Kevin Kim</td>\n",
       "      <td>R</td>\n",
       "      <td>180.0</td>\n",
       "      <td>USA</td>\n",
       "      <td>22.206708</td>\n",
       "      <td>158.0</td>\n",
       "      <td>245.0</td>\n",
       "      <td>3-6 6-4 6-3</td>\n",
       "      <td>3.0</td>\n",
       "      <td>R64</td>\n",
       "      <td>102.0</td>\n",
       "      <td>6.0</td>\n",
       "      <td>5.0</td>\n",
       "      <td>91.0</td>\n",
       "      <td>56.0</td>\n",
       "      <td>43.0</td>\n",
       "      <td>17.0</td>\n",
       "      <td>14.0</td>\n",
       "      <td>7.0</td>\n",
       "      <td>9.0</td>\n",
       "      <td>4.0</td>\n",
       "      <td>2.0</td>\n",
       "      <td>73.0</td>\n",
       "      <td>42.0</td>\n",
       "      <td>29.0</td>\n",
       "      <td>19.0</td>\n",
       "      <td>14.0</td>\n",
       "      <td>4.0</td>\n",
       "      <td>7.0</td>\n",
       "    </tr>\n",
       "    <tr>\n",
       "      <th>16967</th>\n",
       "      <td>2005-520</td>\n",
       "      <td>Roland Garros</td>\n",
       "      <td>Clay</td>\n",
       "      <td>128</td>\n",
       "      <td>G</td>\n",
       "      <td>2005-05-23</td>\n",
       "      <td>85.0</td>\n",
       "      <td>103990</td>\n",
       "      <td>15.0</td>\n",
       "      <td>NaN</td>\n",
       "      <td>Tommy Robredo</td>\n",
       "      <td>R</td>\n",
       "      <td>180.0</td>\n",
       "      <td>ESP</td>\n",
       "      <td>23.060917</td>\n",
       "      <td>16.0</td>\n",
       "      <td>1415.0</td>\n",
       "      <td>101868.0</td>\n",
       "      <td>NaN</td>\n",
       "      <td>LL</td>\n",
       "      <td>Dick Norman</td>\n",
       "      <td>L</td>\n",
       "      <td>203.0</td>\n",
       "      <td>BEL</td>\n",
       "      <td>34.228611</td>\n",
       "      <td>130.0</td>\n",
       "      <td>329.0</td>\n",
       "      <td>6-4 6-2 6-4</td>\n",
       "      <td>5.0</td>\n",
       "      <td>R64</td>\n",
       "      <td>108.0</td>\n",
       "      <td>6.0</td>\n",
       "      <td>1.0</td>\n",
       "      <td>79.0</td>\n",
       "      <td>49.0</td>\n",
       "      <td>39.0</td>\n",
       "      <td>19.0</td>\n",
       "      <td>14.0</td>\n",
       "      <td>5.0</td>\n",
       "      <td>6.0</td>\n",
       "      <td>8.0</td>\n",
       "      <td>3.0</td>\n",
       "      <td>96.0</td>\n",
       "      <td>63.0</td>\n",
       "      <td>39.0</td>\n",
       "      <td>17.0</td>\n",
       "      <td>14.0</td>\n",
       "      <td>9.0</td>\n",
       "      <td>14.0</td>\n",
       "    </tr>\n",
       "    <tr>\n",
       "      <th>9931</th>\n",
       "      <td>2003-481</td>\n",
       "      <td>Copenhagen</td>\n",
       "      <td>Hard</td>\n",
       "      <td>32</td>\n",
       "      <td>A</td>\n",
       "      <td>2003-02-24</td>\n",
       "      <td>25.0</td>\n",
       "      <td>103694</td>\n",
       "      <td>NaN</td>\n",
       "      <td>NaN</td>\n",
       "      <td>Olivier Rochus</td>\n",
       "      <td>R</td>\n",
       "      <td>168.0</td>\n",
       "      <td>BEL</td>\n",
       "      <td>22.099932</td>\n",
       "      <td>84.0</td>\n",
       "      <td>500.0</td>\n",
       "      <td>102494.0</td>\n",
       "      <td>NaN</td>\n",
       "      <td>Q</td>\n",
       "      <td>Tomas Behrend</td>\n",
       "      <td>R</td>\n",
       "      <td>193.0</td>\n",
       "      <td>GER</td>\n",
       "      <td>28.202601</td>\n",
       "      <td>144.0</td>\n",
       "      <td>259.0</td>\n",
       "      <td>6-4 6-1</td>\n",
       "      <td>3.0</td>\n",
       "      <td>QF</td>\n",
       "      <td>68.0</td>\n",
       "      <td>1.0</td>\n",
       "      <td>2.0</td>\n",
       "      <td>42.0</td>\n",
       "      <td>18.0</td>\n",
       "      <td>17.0</td>\n",
       "      <td>16.0</td>\n",
       "      <td>8.0</td>\n",
       "      <td>0.0</td>\n",
       "      <td>0.0</td>\n",
       "      <td>8.0</td>\n",
       "      <td>0.0</td>\n",
       "      <td>64.0</td>\n",
       "      <td>34.0</td>\n",
       "      <td>23.0</td>\n",
       "      <td>12.0</td>\n",
       "      <td>9.0</td>\n",
       "      <td>3.0</td>\n",
       "      <td>7.0</td>\n",
       "    </tr>\n",
       "  </tbody>\n",
       "</table>\n",
       "</div>"
      ],
      "text/plain": [
       "      tourney_id                tourney_name surface draw_size tourney_level  \\\n",
       "42803   2013-321                   Stuttgart    Clay        28             A   \n",
       "6204    2001-325                     Palermo    Clay        32             A   \n",
       "37723   2011-505                    Santiago    Clay        32             A   \n",
       "44059  2013-D015  Davis Cup WG F: SRB vs CZE    Hard         4             D   \n",
       "6015    2001-717                     Houston    Clay        32             A   \n",
       "39887    2012-96             London Olympics   Grass        64             A   \n",
       "48620   2015-741                  Nottingham   Grass        48             A   \n",
       "27241   2008-315                     Newport   Grass        28             A   \n",
       "1588    2000-499                Delray Beach    Hard        32             A   \n",
       "15483   2004-352               Paris Masters  Carpet        48             M   \n",
       "21765   2006-425                   Barcelona    Clay        56             A   \n",
       "14089   2004-416                Rome Masters    Clay        64             M   \n",
       "2602    2000-329                       Tokyo    Hard        56             A   \n",
       "16967   2005-520               Roland Garros    Clay       128             G   \n",
       "9931    2003-481                  Copenhagen    Hard        32             A   \n",
       "\n",
       "      tourney_date  match_num winner_id  winner_seed winner_entry  \\\n",
       "42803   2013-07-08       23.0    103812          NaN          NaN   \n",
       "6204    2001-09-24       17.0    103151          NaN          NaN   \n",
       "37723   2011-01-31       11.0    104349          NaN          NaN   \n",
       "44059   2013-11-15        1.0    104925          NaN          NaN   \n",
       "6015    2001-04-30       30.0    102703          8.0          NaN   \n",
       "39887   2012-07-25       22.0    104571          NaN          NaN   \n",
       "48620   2015-06-21       44.0    105023         12.0          NaN   \n",
       "27241   2008-07-07       20.0    102148          2.0          NaN   \n",
       "1588    2000-02-28       16.0    102925          NaN          NaN   \n",
       "15483   2004-11-01       24.0    103285          NaN            Q   \n",
       "21765   2006-04-24        1.0    103852          NaN          NaN   \n",
       "14089   2004-05-03       58.0    103900          5.0          NaN   \n",
       "2602    2000-10-09        8.0    102863          NaN          NaN   \n",
       "16967   2005-05-23       85.0    103990         15.0          NaN   \n",
       "9931    2003-02-24       25.0    103694          NaN          NaN   \n",
       "\n",
       "            winner_name winner_hand  winner_ht winner_ioc  winner_age  \\\n",
       "42803    Victor Hanescu           R      198.0        ROU   31.964408   \n",
       "6204   Mariano Zabaleta           R      183.0        ARG   23.570157   \n",
       "37723       Rui Machado           R      178.0        POR   26.809035   \n",
       "44059    Novak Djokovic           R      188.0        SRB   26.475017   \n",
       "6015     Hyung Taik Lee           R      180.0        KOR   25.322382   \n",
       "39887  Marcos Baghdatis           R      183.0        CYP   27.099247   \n",
       "48620       Sam Querrey           R      198.0        USA   27.707050   \n",
       "27241   Fabrice Santoro           R      178.0        FRA   35.575633   \n",
       "1588   Justin Gimelstob           R      196.0        USA   23.088296   \n",
       "15483    Radek Stepanek           R      185.0        CZE   25.930185   \n",
       "21765   Feliciano Lopez           L      188.0        ESP   24.591376   \n",
       "14089  David Nalbandian           R      180.0        ARG   22.335387   \n",
       "2602       Takao Suzuki           R      175.0        JPN   24.052019   \n",
       "16967     Tommy Robredo           R      180.0        ESP   23.060917   \n",
       "9931     Olivier Rochus           R      168.0        BEL   22.099932   \n",
       "\n",
       "       winner_rank  winner_rank_points  loser_id  loser_seed loser_entry  \\\n",
       "42803         51.0               857.0  105332.0         4.0         NaN   \n",
       "6204          61.0               647.0  102374.0         1.0         NaN   \n",
       "37723         87.0               575.0  105941.0         NaN          WC   \n",
       "44059          2.0             12110.0  103285.0         NaN         NaN   \n",
       "6015          81.0               527.0  103420.0         4.0         NaN   \n",
       "39887         44.0               945.0  104424.0         NaN         NaN   \n",
       "48620         44.0              1010.0  104468.0         2.0         NaN   \n",
       "27241         57.0               691.0  103529.0         NaN         NaN   \n",
       "1588          96.0               426.0  102223.0         2.0         NaN   \n",
       "15483         63.0               610.0  103812.0         NaN          LL   \n",
       "21765         38.0               850.0  103657.0         NaN           Q   \n",
       "14089          8.0              2085.0  102434.0         NaN         NaN   \n",
       "2602         164.0               238.0  103240.0         NaN         NaN   \n",
       "16967         16.0              1415.0  101868.0         NaN          LL   \n",
       "9931          84.0               500.0  102494.0         NaN           Q   \n",
       "\n",
       "                 loser_name loser_hand  loser_ht loser_ioc  loser_age  \\\n",
       "42803          Benoit Paire          R     196.0       FRA  24.167009   \n",
       "6204          Alex Corretja          R     180.0       ESP  27.455168   \n",
       "37723           Felipe Rios          R       NaN       CHI  18.910335   \n",
       "44059        Radek Stepanek          R     185.0       CZE  34.956879   \n",
       "6015          Michal Tabara          R     175.0       CZE  21.719370   \n",
       "39887              Go Soeda          R     178.0       JPN  27.879535   \n",
       "48620          Gilles Simon          R     183.0       FRA  30.483231   \n",
       "27241  Aisam Ul Haq Qureshi          R     183.0       PAK  28.306639   \n",
       "1588            Karim Alami          R     185.0       MAR  26.765229   \n",
       "15483        Victor Hanescu          R     198.0       ROU  23.282683   \n",
       "21765              Ivo Klec          R     183.0       SVK  25.401780   \n",
       "14089        Vincent Spadea          R     183.0       USA  29.790554   \n",
       "2602              Kevin Kim          R     180.0       USA  22.206708   \n",
       "16967           Dick Norman          L     203.0       BEL  34.228611   \n",
       "9931          Tomas Behrend          R     193.0       GER  28.202601   \n",
       "\n",
       "       loser_rank  loser_rank_points              score  best_of round  \\\n",
       "42803        27.0             1380.0            7-5 6-2      3.0    QF   \n",
       "6204         11.0             1895.0            6-4 7-5      3.0   R16   \n",
       "37723      1285.0                2.0            6-2 6-0      3.0   R32   \n",
       "44059        44.0              970.0        7-5 6-1 6-4      5.0    RR   \n",
       "6015         73.0              603.0        4-6 6-2 6-1      3.0    SF   \n",
       "39887        47.0              888.0  6-7(6) 7-6(5) 6-2      3.0   R64   \n",
       "48620        13.0             2435.0     5-7 7-6(8) 6-4      3.0    QF   \n",
       "27241       169.0              234.0         7-6(4) 6-2      3.0   R16   \n",
       "1588         25.0             1058.0     6-4 2-6 7-6(2)      3.0   R32   \n",
       "15483        90.0              447.0            6-4 6-1      3.0   R32   \n",
       "21765       233.0              158.0        4-6 6-4 6-4      3.0   R64   \n",
       "14089        34.0              950.0            6-4 6-3      3.0    QF   \n",
       "2602        158.0              245.0        3-6 6-4 6-3      3.0   R64   \n",
       "16967       130.0              329.0        6-4 6-2 6-4      5.0   R64   \n",
       "9931        144.0              259.0            6-4 6-1      3.0    QF   \n",
       "\n",
       "       minutes  w_ace  w_df  w_svpt  w_1stIn  w_1stWon  w_2ndWon  w_SvGms  \\\n",
       "42803     72.0    5.0   1.0    58.0     42.0      32.0      10.0     10.0   \n",
       "6204     100.0    6.0   1.0    69.0     42.0      29.0      16.0     11.0   \n",
       "37723     58.0    2.0   5.0    42.0     21.0      17.0      12.0      7.0   \n",
       "44059      NaN    NaN   NaN     NaN      NaN       NaN       NaN      NaN   \n",
       "6015      84.0    4.0   4.0    77.0     42.0      33.0      20.0     13.0   \n",
       "39887    146.0   13.0   9.0   115.0     62.0      49.0      26.0     16.0   \n",
       "48620      NaN   26.0   4.0   108.0     69.0      57.0      16.0     17.0   \n",
       "27241     85.0    3.0   1.0    53.0     31.0      26.0      17.0     10.0   \n",
       "1588     145.0    4.0   5.0   109.0     67.0      44.0      25.0     15.0   \n",
       "15483     54.0    6.0   1.0    39.0     29.0      24.0       8.0      8.0   \n",
       "21765    131.0    4.0   5.0   111.0     54.0      36.0      21.0     15.0   \n",
       "14089     87.0    3.0   3.0    59.0     35.0      26.0      14.0      9.0   \n",
       "2602     102.0    6.0   5.0    91.0     56.0      43.0      17.0     14.0   \n",
       "16967    108.0    6.0   1.0    79.0     49.0      39.0      19.0     14.0   \n",
       "9931      68.0    1.0   2.0    42.0     18.0      17.0      16.0      8.0   \n",
       "\n",
       "       w_bpSaved  w_bpFaced  l_ace  l_df  l_svpt  l_1stIn  l_1stWon  l_2ndWon  \\\n",
       "42803        1.0        1.0    3.0   7.0    62.0     26.0      18.0      17.0   \n",
       "6204         4.0        6.0    6.0   5.0    63.0     20.0      13.0      22.0   \n",
       "37723        0.0        0.0    0.0   6.0    44.0     29.0      15.0       3.0   \n",
       "44059        NaN        NaN    NaN   NaN     NaN      NaN       NaN       NaN   \n",
       "6015         0.0        2.0    1.0   4.0    69.0     47.0      28.0      10.0   \n",
       "39887        5.0        7.0    1.0   3.0   102.0     55.0      35.0      28.0   \n",
       "48620        5.0        8.0    7.0   2.0    99.0     57.0      45.0      26.0   \n",
       "27241        0.0        0.0    2.0   3.0    70.0     40.0      29.0      12.0   \n",
       "1588         9.0       12.0    3.0   7.0   102.0     58.0      42.0      22.0   \n",
       "15483        0.0        0.0    5.0   4.0    58.0     36.0      25.0       5.0   \n",
       "21765        9.0       15.0    1.0   6.0    86.0     44.0      28.0      18.0   \n",
       "14089        4.0        5.0    3.0   6.0    69.0     36.0      24.0      12.0   \n",
       "2602         7.0        9.0    4.0   2.0    73.0     42.0      29.0      19.0   \n",
       "16967        5.0        6.0    8.0   3.0    96.0     63.0      39.0      17.0   \n",
       "9931         0.0        0.0    8.0   0.0    64.0     34.0      23.0      12.0   \n",
       "\n",
       "       l_SvGms  l_bpSaved  l_bpFaced  \n",
       "42803     10.0        3.0        6.0  \n",
       "6204      11.0        2.0        6.0  \n",
       "37723      7.0        0.0        5.0  \n",
       "44059      NaN        NaN        NaN  \n",
       "6015      12.0        3.0        8.0  \n",
       "39887     16.0        4.0        8.0  \n",
       "48620     17.0        3.0        6.0  \n",
       "27241     10.0        4.0        6.0  \n",
       "1588      15.0        5.0        7.0  \n",
       "15483      9.0        1.0        5.0  \n",
       "21765     15.0       10.0       17.0  \n",
       "14089     10.0        7.0       11.0  \n",
       "2602      14.0        4.0        7.0  \n",
       "16967     14.0        9.0       14.0  \n",
       "9931       9.0        3.0        7.0  "
      ]
     },
     "execution_count": 6,
     "metadata": {},
     "output_type": "execute_result"
    }
   ],
   "source": [
    "df.sample(15)"
   ]
  },
  {
   "cell_type": "code",
   "execution_count": null,
   "metadata": {
    "id": "ALd8iLhwFSbr"
   },
   "outputs": [],
   "source": [
    "columns = ['tourney_name', 'surface', 'tourney_level', 'tourney_date', 'match_num', 'winner_name', 'winner_hand',\n",
    "           'winner_ht', 'winner_ioc', 'round', 'winner_age', 'winner_rank', 'winner_rank_points', 'score',\n",
    "           'best_of', 'round', 'minutes', 'w_ace', 'w_df', 'w_svpt', 'w_1stIn', 'w_1stWon', 'w_2ndWon', 'w_SvGms',\n",
    "           'w_bpSaved', 'w_bpFaced']\n",
    "for i in df.columns:\n",
    "    if i in columns:\n",
    "        pass\n",
    "    else:\n",
    "        df.drop(i, axis=1, inplace = True)"
   ]
  },
  {
   "cell_type": "code",
   "execution_count": null,
   "metadata": {
    "colab": {
     "base_uri": "https://localhost:8080/",
     "height": 374
    },
    "id": "Ukhguea6FXQu",
    "outputId": "67840a53-ed16-499b-94bc-986d4f978803"
   },
   "outputs": [
    {
     "data": {
      "text/html": [
       "<div>\n",
       "<style scoped>\n",
       "    .dataframe tbody tr th:only-of-type {\n",
       "        vertical-align: middle;\n",
       "    }\n",
       "\n",
       "    .dataframe tbody tr th {\n",
       "        vertical-align: top;\n",
       "    }\n",
       "\n",
       "    .dataframe thead th {\n",
       "        text-align: right;\n",
       "    }\n",
       "</style>\n",
       "<table border=\"1\" class=\"dataframe\">\n",
       "  <thead>\n",
       "    <tr style=\"text-align: right;\">\n",
       "      <th></th>\n",
       "      <th>tourney_name</th>\n",
       "      <th>surface</th>\n",
       "      <th>tourney_level</th>\n",
       "      <th>tourney_date</th>\n",
       "      <th>match_num</th>\n",
       "      <th>winner_name</th>\n",
       "      <th>winner_hand</th>\n",
       "      <th>winner_ht</th>\n",
       "      <th>winner_ioc</th>\n",
       "      <th>winner_age</th>\n",
       "      <th>winner_rank</th>\n",
       "      <th>winner_rank_points</th>\n",
       "      <th>score</th>\n",
       "      <th>best_of</th>\n",
       "      <th>round</th>\n",
       "      <th>minutes</th>\n",
       "      <th>w_ace</th>\n",
       "      <th>w_df</th>\n",
       "      <th>w_svpt</th>\n",
       "      <th>w_1stIn</th>\n",
       "      <th>w_1stWon</th>\n",
       "      <th>w_2ndWon</th>\n",
       "      <th>w_SvGms</th>\n",
       "      <th>w_bpSaved</th>\n",
       "      <th>w_bpFaced</th>\n",
       "    </tr>\n",
       "  </thead>\n",
       "  <tbody>\n",
       "    <tr>\n",
       "      <th>0</th>\n",
       "      <td>Orlando</td>\n",
       "      <td>Clay</td>\n",
       "      <td>A</td>\n",
       "      <td>2000-05-01</td>\n",
       "      <td>1.0</td>\n",
       "      <td>Antony Dupuis</td>\n",
       "      <td>R</td>\n",
       "      <td>185.0</td>\n",
       "      <td>FRA</td>\n",
       "      <td>27.181383</td>\n",
       "      <td>113.0</td>\n",
       "      <td>351.0</td>\n",
       "      <td>3-6 7-6(6) 7-6(4)</td>\n",
       "      <td>3.0</td>\n",
       "      <td>R32</td>\n",
       "      <td>162.0</td>\n",
       "      <td>8.0</td>\n",
       "      <td>1.0</td>\n",
       "      <td>126.0</td>\n",
       "      <td>76.0</td>\n",
       "      <td>56.0</td>\n",
       "      <td>29.0</td>\n",
       "      <td>16.0</td>\n",
       "      <td>14.0</td>\n",
       "      <td>15.0</td>\n",
       "    </tr>\n",
       "    <tr>\n",
       "      <th>1</th>\n",
       "      <td>Orlando</td>\n",
       "      <td>Clay</td>\n",
       "      <td>A</td>\n",
       "      <td>2000-05-01</td>\n",
       "      <td>2.0</td>\n",
       "      <td>Fernando Gonzalez</td>\n",
       "      <td>R</td>\n",
       "      <td>183.0</td>\n",
       "      <td>CHI</td>\n",
       "      <td>19.756331</td>\n",
       "      <td>352.0</td>\n",
       "      <td>76.0</td>\n",
       "      <td>6-2 7-5</td>\n",
       "      <td>3.0</td>\n",
       "      <td>R32</td>\n",
       "      <td>86.0</td>\n",
       "      <td>4.0</td>\n",
       "      <td>2.0</td>\n",
       "      <td>67.0</td>\n",
       "      <td>35.0</td>\n",
       "      <td>25.0</td>\n",
       "      <td>16.0</td>\n",
       "      <td>10.0</td>\n",
       "      <td>4.0</td>\n",
       "      <td>6.0</td>\n",
       "    </tr>\n",
       "    <tr>\n",
       "      <th>2</th>\n",
       "      <td>Orlando</td>\n",
       "      <td>Clay</td>\n",
       "      <td>A</td>\n",
       "      <td>2000-05-01</td>\n",
       "      <td>3.0</td>\n",
       "      <td>Paradorn Srichaphan</td>\n",
       "      <td>R</td>\n",
       "      <td>185.0</td>\n",
       "      <td>THA</td>\n",
       "      <td>20.881588</td>\n",
       "      <td>103.0</td>\n",
       "      <td>380.0</td>\n",
       "      <td>6-1 6-3</td>\n",
       "      <td>3.0</td>\n",
       "      <td>R32</td>\n",
       "      <td>64.0</td>\n",
       "      <td>4.0</td>\n",
       "      <td>1.0</td>\n",
       "      <td>46.0</td>\n",
       "      <td>29.0</td>\n",
       "      <td>23.0</td>\n",
       "      <td>11.0</td>\n",
       "      <td>8.0</td>\n",
       "      <td>0.0</td>\n",
       "      <td>0.0</td>\n",
       "    </tr>\n",
       "    <tr>\n",
       "      <th>3</th>\n",
       "      <td>Orlando</td>\n",
       "      <td>Clay</td>\n",
       "      <td>A</td>\n",
       "      <td>2000-05-01</td>\n",
       "      <td>4.0</td>\n",
       "      <td>Jan Siemerink</td>\n",
       "      <td>L</td>\n",
       "      <td>183.0</td>\n",
       "      <td>NED</td>\n",
       "      <td>30.047912</td>\n",
       "      <td>107.0</td>\n",
       "      <td>371.0</td>\n",
       "      <td>4-6 6-2 7-5</td>\n",
       "      <td>3.0</td>\n",
       "      <td>R32</td>\n",
       "      <td>150.0</td>\n",
       "      <td>8.0</td>\n",
       "      <td>6.0</td>\n",
       "      <td>109.0</td>\n",
       "      <td>56.0</td>\n",
       "      <td>43.0</td>\n",
       "      <td>21.0</td>\n",
       "      <td>15.0</td>\n",
       "      <td>9.0</td>\n",
       "      <td>12.0</td>\n",
       "    </tr>\n",
       "    <tr>\n",
       "      <th>4</th>\n",
       "      <td>Orlando</td>\n",
       "      <td>Clay</td>\n",
       "      <td>A</td>\n",
       "      <td>2000-05-01</td>\n",
       "      <td>5.0</td>\n",
       "      <td>Jason Stoltenberg</td>\n",
       "      <td>R</td>\n",
       "      <td>185.0</td>\n",
       "      <td>AUS</td>\n",
       "      <td>30.075291</td>\n",
       "      <td>74.0</td>\n",
       "      <td>543.0</td>\n",
       "      <td>6-1 6-4</td>\n",
       "      <td>3.0</td>\n",
       "      <td>R32</td>\n",
       "      <td>60.0</td>\n",
       "      <td>3.0</td>\n",
       "      <td>0.0</td>\n",
       "      <td>50.0</td>\n",
       "      <td>27.0</td>\n",
       "      <td>22.0</td>\n",
       "      <td>16.0</td>\n",
       "      <td>9.0</td>\n",
       "      <td>1.0</td>\n",
       "      <td>1.0</td>\n",
       "    </tr>\n",
       "  </tbody>\n",
       "</table>\n",
       "</div>"
      ],
      "text/plain": [
       "  tourney_name surface tourney_level tourney_date  match_num  \\\n",
       "0      Orlando    Clay             A   2000-05-01        1.0   \n",
       "1      Orlando    Clay             A   2000-05-01        2.0   \n",
       "2      Orlando    Clay             A   2000-05-01        3.0   \n",
       "3      Orlando    Clay             A   2000-05-01        4.0   \n",
       "4      Orlando    Clay             A   2000-05-01        5.0   \n",
       "\n",
       "           winner_name winner_hand  winner_ht winner_ioc  winner_age  \\\n",
       "0        Antony Dupuis           R      185.0        FRA   27.181383   \n",
       "1    Fernando Gonzalez           R      183.0        CHI   19.756331   \n",
       "2  Paradorn Srichaphan           R      185.0        THA   20.881588   \n",
       "3        Jan Siemerink           L      183.0        NED   30.047912   \n",
       "4    Jason Stoltenberg           R      185.0        AUS   30.075291   \n",
       "\n",
       "   winner_rank  winner_rank_points              score  best_of round  minutes  \\\n",
       "0        113.0               351.0  3-6 7-6(6) 7-6(4)      3.0   R32    162.0   \n",
       "1        352.0                76.0            6-2 7-5      3.0   R32     86.0   \n",
       "2        103.0               380.0            6-1 6-3      3.0   R32     64.0   \n",
       "3        107.0               371.0        4-6 6-2 7-5      3.0   R32    150.0   \n",
       "4         74.0               543.0            6-1 6-4      3.0   R32     60.0   \n",
       "\n",
       "   w_ace  w_df  w_svpt  w_1stIn  w_1stWon  w_2ndWon  w_SvGms  w_bpSaved  \\\n",
       "0    8.0   1.0   126.0     76.0      56.0      29.0     16.0       14.0   \n",
       "1    4.0   2.0    67.0     35.0      25.0      16.0     10.0        4.0   \n",
       "2    4.0   1.0    46.0     29.0      23.0      11.0      8.0        0.0   \n",
       "3    8.0   6.0   109.0     56.0      43.0      21.0     15.0        9.0   \n",
       "4    3.0   0.0    50.0     27.0      22.0      16.0      9.0        1.0   \n",
       "\n",
       "   w_bpFaced  \n",
       "0       15.0  \n",
       "1        6.0  \n",
       "2        0.0  \n",
       "3       12.0  \n",
       "4        1.0  "
      ]
     },
     "execution_count": 8,
     "metadata": {},
     "output_type": "execute_result"
    }
   ],
   "source": [
    "df.head()"
   ]
  },
  {
   "cell_type": "code",
   "execution_count": null,
   "metadata": {
    "id": "YfL10cUWFYfT"
   },
   "outputs": [],
   "source": [
    "cols = ['winner_age', 'winner_rank', 'winner_rank_points']\n",
    "df[cols] = df[cols].apply(np.round)"
   ]
  },
  {
   "cell_type": "code",
   "execution_count": null,
   "metadata": {
    "colab": {
     "base_uri": "https://localhost:8080/"
    },
    "id": "el5C6s2xFcXD",
    "outputId": "e01bd981-e0a2-4ffd-88b9-7082a05f4276"
   },
   "outputs": [
    {
     "data": {
      "text/plain": [
       "tourney_name             77\n",
       "surface                1321\n",
       "tourney_level            71\n",
       "tourney_date           3392\n",
       "match_num               131\n",
       "winner_name              99\n",
       "winner_hand             113\n",
       "winner_ht              2710\n",
       "winner_ioc              103\n",
       "winner_age              115\n",
       "winner_rank            1150\n",
       "winner_rank_points     1150\n",
       "score                   104\n",
       "best_of                 103\n",
       "round                  3392\n",
       "minutes               10358\n",
       "w_ace                  9120\n",
       "w_df                   9120\n",
       "w_svpt                 9120\n",
       "w_1stIn                9120\n",
       "w_1stWon               9120\n",
       "w_2ndWon               9120\n",
       "w_SvGms                9120\n",
       "w_bpSaved              9120\n",
       "w_bpFaced              9120\n",
       "dtype: int64"
      ]
     },
     "execution_count": 10,
     "metadata": {},
     "output_type": "execute_result"
    }
   ],
   "source": [
    "df.isna().sum()"
   ]
  },
  {
   "cell_type": "code",
   "execution_count": null,
   "metadata": {
    "id": "ouH6SxW5Fe3r"
   },
   "outputs": [],
   "source": [
    "#dropping nulls\n",
    "df.dropna(inplace=True)"
   ]
  },
  {
   "cell_type": "code",
   "execution_count": null,
   "metadata": {
    "id": "B8XoVt1bFhLn",
    "scrolled": true
   },
   "outputs": [],
   "source": [
    "#converting cols datatype to int\n",
    "df[cols] = df[cols].astype(int)"
   ]
  },
  {
   "cell_type": "code",
   "execution_count": null,
   "metadata": {
    "id": "ElGsjs1rFjWz"
   },
   "outputs": [],
   "source": [
    "#checking if null values still exist in the dataframe\n",
    "assert df.all().isna().sum() == 0"
   ]
  },
  {
   "cell_type": "code",
   "execution_count": null,
   "metadata": {
    "id": "BMXlZ_e2Flgx"
   },
   "outputs": [],
   "source": [
    "# changing winner hand to category since it's just two observations; L and R\n",
    "df['winner_hand'] = df['winner_hand'].astype('category')"
   ]
  },
  {
   "cell_type": "code",
   "execution_count": null,
   "metadata": {
    "colab": {
     "base_uri": "https://localhost:8080/"
    },
    "id": "0NhWI4WqICQZ",
    "outputId": "29c6764a-e588-4d83-eed5-4d3032783dd7"
   },
   "outputs": [
    {
     "data": {
      "text/plain": [
       "CategoricalDtype(categories=['L', 'R'], ordered=False)"
      ]
     },
     "execution_count": 15,
     "metadata": {},
     "output_type": "execute_result"
    }
   ],
   "source": [
    "df['winner_hand'].dtype"
   ]
  },
  {
   "cell_type": "code",
   "execution_count": null,
   "metadata": {
    "colab": {
     "base_uri": "https://localhost:8080/"
    },
    "id": "vVHut5IFHPc4",
    "outputId": "1f0a1796-8cbf-453d-a022-66650eb7bcd3"
   },
   "outputs": [
    {
     "name": "stdout",
     "output_type": "stream",
     "text": [
      "<class 'pandas.core.frame.DataFrame'>\n",
      "Int64Index: 41912 entries, 0 to 49835\n",
      "Data columns (total 25 columns):\n",
      " #   Column              Non-Null Count  Dtype         \n",
      "---  ------              --------------  -----         \n",
      " 0   tourney_name        41912 non-null  object        \n",
      " 1   surface             41912 non-null  object        \n",
      " 2   tourney_level       41912 non-null  object        \n",
      " 3   tourney_date        41912 non-null  datetime64[ns]\n",
      " 4   match_num           41912 non-null  float64       \n",
      " 5   winner_name         41912 non-null  object        \n",
      " 6   winner_hand         41912 non-null  category      \n",
      " 7   winner_ht           41912 non-null  float64       \n",
      " 8   winner_ioc          41912 non-null  object        \n",
      " 9   winner_age          41912 non-null  int32         \n",
      " 10  winner_rank         41912 non-null  int32         \n",
      " 11  winner_rank_points  41912 non-null  int32         \n",
      " 12  score               41912 non-null  object        \n",
      " 13  best_of             41912 non-null  float64       \n",
      " 14  round               41912 non-null  object        \n",
      " 15  minutes             41912 non-null  float64       \n",
      " 16  w_ace               41912 non-null  float64       \n",
      " 17  w_df                41912 non-null  float64       \n",
      " 18  w_svpt              41912 non-null  float64       \n",
      " 19  w_1stIn             41912 non-null  float64       \n",
      " 20  w_1stWon            41912 non-null  float64       \n",
      " 21  w_2ndWon            41912 non-null  float64       \n",
      " 22  w_SvGms             41912 non-null  float64       \n",
      " 23  w_bpSaved           41912 non-null  float64       \n",
      " 24  w_bpFaced           41912 non-null  float64       \n",
      "dtypes: category(1), datetime64[ns](1), float64(13), int32(3), object(7)\n",
      "memory usage: 7.6+ MB\n"
     ]
    }
   ],
   "source": [
    "df.info()"
   ]
  },
  {
   "cell_type": "code",
   "execution_count": null,
   "metadata": {
    "colab": {
     "base_uri": "https://localhost:8080/"
    },
    "id": "zyB0pumaKPhm",
    "outputId": "ec6a5166-ceb5-424e-ed8a-e99c23277d43"
   },
   "outputs": [
    {
     "data": {
      "text/plain": [
       "0"
      ]
     },
     "execution_count": 17,
     "metadata": {},
     "output_type": "execute_result"
    }
   ],
   "source": [
    "df.duplicated().sum()"
   ]
  },
  {
   "cell_type": "code",
   "execution_count": null,
   "metadata": {
    "id": "G2hRXc5zHRG3"
   },
   "outputs": [],
   "source": [
    "df.to_csv('atp-cleaned-data.csv', index = False)"
   ]
  },
  {
   "cell_type": "markdown",
   "metadata": {
    "id": "BBKmCupe2id-"
   },
   "source": [
    " "
   ]
  },
  {
   "cell_type": "markdown",
   "metadata": {
    "id": "gOIsz-Kh2id-"
   },
   "source": [
    "# Analysis"
   ]
  },
  {
   "cell_type": "markdown",
   "metadata": {
    "id": "UBGhbaeC2id-"
   },
   "source": [
    "Ace – A legal serve which the returner does not manage to get their racquet to. An ace always results in the server winning a point. Advantage – A player's score is given as 'advantage' or 'ad' when they win the next point after a game goes to deuce (see below)"
   ]
  },
  {
   "cell_type": "markdown",
   "metadata": {
    "id": "vPQMZXQE2id-"
   },
   "source": [
    "#### Analysis to be performed\n",
    "- Get the best tennis player of all time\n",
    "- Get the best 3 tennis player\n",
    "- Total number of their wins yearly\n",
    "##### The characteristics of the best player\n",
    "- The surface where he's more strong\n",
    "- Visualize the height of the best 3 players\n",
    "- \n",
    "- \n",
    "- get the statistics of the hand\n",
    "- statistics of the country of the top 10 with highest number of player\n",
    "- statistics of the winner_rank_point of the top 3 players\n",
    "- ace and height (corr)[the higher the player, the higher the chances of getting ace]\n",
    "\n",
    "\n"
   ]
  },
  {
   "cell_type": "markdown",
   "metadata": {
    "id": "jhtZcAT52id_"
   },
   "source": [
    "#### Load cleaned dataset"
   ]
  },
  {
   "cell_type": "code",
   "execution_count": null,
   "metadata": {
    "id": "cS78UVvb2id_",
    "outputId": "b6623487-7e16-44a1-fa66-b09bfb122755"
   },
   "outputs": [
    {
     "data": {
      "text/html": [
       "<div>\n",
       "<style scoped>\n",
       "    .dataframe tbody tr th:only-of-type {\n",
       "        vertical-align: middle;\n",
       "    }\n",
       "\n",
       "    .dataframe tbody tr th {\n",
       "        vertical-align: top;\n",
       "    }\n",
       "\n",
       "    .dataframe thead th {\n",
       "        text-align: right;\n",
       "    }\n",
       "</style>\n",
       "<table border=\"1\" class=\"dataframe\">\n",
       "  <thead>\n",
       "    <tr style=\"text-align: right;\">\n",
       "      <th></th>\n",
       "      <th>tourney_name</th>\n",
       "      <th>surface</th>\n",
       "      <th>tourney_level</th>\n",
       "      <th>tourney_date</th>\n",
       "      <th>match_num</th>\n",
       "      <th>winner_name</th>\n",
       "      <th>winner_hand</th>\n",
       "      <th>winner_ht</th>\n",
       "      <th>winner_ioc</th>\n",
       "      <th>winner_age</th>\n",
       "      <th>winner_rank</th>\n",
       "      <th>winner_rank_points</th>\n",
       "      <th>score</th>\n",
       "      <th>best_of</th>\n",
       "      <th>round</th>\n",
       "      <th>minutes</th>\n",
       "      <th>w_ace</th>\n",
       "      <th>w_df</th>\n",
       "      <th>w_svpt</th>\n",
       "      <th>w_1stIn</th>\n",
       "      <th>w_1stWon</th>\n",
       "      <th>w_2ndWon</th>\n",
       "      <th>w_SvGms</th>\n",
       "      <th>w_bpSaved</th>\n",
       "      <th>w_bpFaced</th>\n",
       "    </tr>\n",
       "  </thead>\n",
       "  <tbody>\n",
       "    <tr>\n",
       "      <th>0</th>\n",
       "      <td>Orlando</td>\n",
       "      <td>Clay</td>\n",
       "      <td>A</td>\n",
       "      <td>2000-05-01</td>\n",
       "      <td>1.0</td>\n",
       "      <td>Antony Dupuis</td>\n",
       "      <td>R</td>\n",
       "      <td>185.0</td>\n",
       "      <td>FRA</td>\n",
       "      <td>27</td>\n",
       "      <td>113</td>\n",
       "      <td>351</td>\n",
       "      <td>3-6 7-6(6) 7-6(4)</td>\n",
       "      <td>3.0</td>\n",
       "      <td>R32</td>\n",
       "      <td>162.0</td>\n",
       "      <td>8.0</td>\n",
       "      <td>1.0</td>\n",
       "      <td>126.0</td>\n",
       "      <td>76.0</td>\n",
       "      <td>56.0</td>\n",
       "      <td>29.0</td>\n",
       "      <td>16.0</td>\n",
       "      <td>14.0</td>\n",
       "      <td>15.0</td>\n",
       "    </tr>\n",
       "    <tr>\n",
       "      <th>1</th>\n",
       "      <td>Orlando</td>\n",
       "      <td>Clay</td>\n",
       "      <td>A</td>\n",
       "      <td>2000-05-01</td>\n",
       "      <td>2.0</td>\n",
       "      <td>Fernando Gonzalez</td>\n",
       "      <td>R</td>\n",
       "      <td>183.0</td>\n",
       "      <td>CHI</td>\n",
       "      <td>20</td>\n",
       "      <td>352</td>\n",
       "      <td>76</td>\n",
       "      <td>6-2 7-5</td>\n",
       "      <td>3.0</td>\n",
       "      <td>R32</td>\n",
       "      <td>86.0</td>\n",
       "      <td>4.0</td>\n",
       "      <td>2.0</td>\n",
       "      <td>67.0</td>\n",
       "      <td>35.0</td>\n",
       "      <td>25.0</td>\n",
       "      <td>16.0</td>\n",
       "      <td>10.0</td>\n",
       "      <td>4.0</td>\n",
       "      <td>6.0</td>\n",
       "    </tr>\n",
       "    <tr>\n",
       "      <th>2</th>\n",
       "      <td>Orlando</td>\n",
       "      <td>Clay</td>\n",
       "      <td>A</td>\n",
       "      <td>2000-05-01</td>\n",
       "      <td>3.0</td>\n",
       "      <td>Paradorn Srichaphan</td>\n",
       "      <td>R</td>\n",
       "      <td>185.0</td>\n",
       "      <td>THA</td>\n",
       "      <td>21</td>\n",
       "      <td>103</td>\n",
       "      <td>380</td>\n",
       "      <td>6-1 6-3</td>\n",
       "      <td>3.0</td>\n",
       "      <td>R32</td>\n",
       "      <td>64.0</td>\n",
       "      <td>4.0</td>\n",
       "      <td>1.0</td>\n",
       "      <td>46.0</td>\n",
       "      <td>29.0</td>\n",
       "      <td>23.0</td>\n",
       "      <td>11.0</td>\n",
       "      <td>8.0</td>\n",
       "      <td>0.0</td>\n",
       "      <td>0.0</td>\n",
       "    </tr>\n",
       "    <tr>\n",
       "      <th>3</th>\n",
       "      <td>Orlando</td>\n",
       "      <td>Clay</td>\n",
       "      <td>A</td>\n",
       "      <td>2000-05-01</td>\n",
       "      <td>4.0</td>\n",
       "      <td>Jan Siemerink</td>\n",
       "      <td>L</td>\n",
       "      <td>183.0</td>\n",
       "      <td>NED</td>\n",
       "      <td>30</td>\n",
       "      <td>107</td>\n",
       "      <td>371</td>\n",
       "      <td>4-6 6-2 7-5</td>\n",
       "      <td>3.0</td>\n",
       "      <td>R32</td>\n",
       "      <td>150.0</td>\n",
       "      <td>8.0</td>\n",
       "      <td>6.0</td>\n",
       "      <td>109.0</td>\n",
       "      <td>56.0</td>\n",
       "      <td>43.0</td>\n",
       "      <td>21.0</td>\n",
       "      <td>15.0</td>\n",
       "      <td>9.0</td>\n",
       "      <td>12.0</td>\n",
       "    </tr>\n",
       "    <tr>\n",
       "      <th>4</th>\n",
       "      <td>Orlando</td>\n",
       "      <td>Clay</td>\n",
       "      <td>A</td>\n",
       "      <td>2000-05-01</td>\n",
       "      <td>5.0</td>\n",
       "      <td>Jason Stoltenberg</td>\n",
       "      <td>R</td>\n",
       "      <td>185.0</td>\n",
       "      <td>AUS</td>\n",
       "      <td>30</td>\n",
       "      <td>74</td>\n",
       "      <td>543</td>\n",
       "      <td>6-1 6-4</td>\n",
       "      <td>3.0</td>\n",
       "      <td>R32</td>\n",
       "      <td>60.0</td>\n",
       "      <td>3.0</td>\n",
       "      <td>0.0</td>\n",
       "      <td>50.0</td>\n",
       "      <td>27.0</td>\n",
       "      <td>22.0</td>\n",
       "      <td>16.0</td>\n",
       "      <td>9.0</td>\n",
       "      <td>1.0</td>\n",
       "      <td>1.0</td>\n",
       "    </tr>\n",
       "  </tbody>\n",
       "</table>\n",
       "</div>"
      ],
      "text/plain": [
       "  tourney_name surface tourney_level tourney_date  match_num  \\\n",
       "0      Orlando    Clay             A   2000-05-01        1.0   \n",
       "1      Orlando    Clay             A   2000-05-01        2.0   \n",
       "2      Orlando    Clay             A   2000-05-01        3.0   \n",
       "3      Orlando    Clay             A   2000-05-01        4.0   \n",
       "4      Orlando    Clay             A   2000-05-01        5.0   \n",
       "\n",
       "           winner_name winner_hand  winner_ht winner_ioc  winner_age  \\\n",
       "0        Antony Dupuis           R      185.0        FRA          27   \n",
       "1    Fernando Gonzalez           R      183.0        CHI          20   \n",
       "2  Paradorn Srichaphan           R      185.0        THA          21   \n",
       "3        Jan Siemerink           L      183.0        NED          30   \n",
       "4    Jason Stoltenberg           R      185.0        AUS          30   \n",
       "\n",
       "   winner_rank  winner_rank_points              score  best_of round  minutes  \\\n",
       "0          113                 351  3-6 7-6(6) 7-6(4)      3.0   R32    162.0   \n",
       "1          352                  76            6-2 7-5      3.0   R32     86.0   \n",
       "2          103                 380            6-1 6-3      3.0   R32     64.0   \n",
       "3          107                 371        4-6 6-2 7-5      3.0   R32    150.0   \n",
       "4           74                 543            6-1 6-4      3.0   R32     60.0   \n",
       "\n",
       "   w_ace  w_df  w_svpt  w_1stIn  w_1stWon  w_2ndWon  w_SvGms  w_bpSaved  \\\n",
       "0    8.0   1.0   126.0     76.0      56.0      29.0     16.0       14.0   \n",
       "1    4.0   2.0    67.0     35.0      25.0      16.0     10.0        4.0   \n",
       "2    4.0   1.0    46.0     29.0      23.0      11.0      8.0        0.0   \n",
       "3    8.0   6.0   109.0     56.0      43.0      21.0     15.0        9.0   \n",
       "4    3.0   0.0    50.0     27.0      22.0      16.0      9.0        1.0   \n",
       "\n",
       "   w_bpFaced  \n",
       "0       15.0  \n",
       "1        6.0  \n",
       "2        0.0  \n",
       "3       12.0  \n",
       "4        1.0  "
      ]
     },
     "execution_count": 24,
     "metadata": {},
     "output_type": "execute_result"
    }
   ],
   "source": [
    "df = pd.read_csv('atp-cleaned-data.csv')\n",
    "df.head()"
   ]
  },
  {
   "cell_type": "code",
   "execution_count": null,
   "metadata": {
    "id": "0k8_c3fV2id_",
    "outputId": "9791392c-7ced-4869-e293-3a619d404758"
   },
   "outputs": [
    {
     "name": "stdout",
     "output_type": "stream",
     "text": [
      "<class 'pandas.core.frame.DataFrame'>\n",
      "RangeIndex: 41912 entries, 0 to 41911\n",
      "Data columns (total 25 columns):\n",
      " #   Column              Non-Null Count  Dtype  \n",
      "---  ------              --------------  -----  \n",
      " 0   tourney_name        41912 non-null  object \n",
      " 1   surface             41912 non-null  object \n",
      " 2   tourney_level       41912 non-null  object \n",
      " 3   tourney_date        41912 non-null  object \n",
      " 4   match_num           41912 non-null  float64\n",
      " 5   winner_name         41912 non-null  object \n",
      " 6   winner_hand         41912 non-null  object \n",
      " 7   winner_ht           41912 non-null  float64\n",
      " 8   winner_ioc          41912 non-null  object \n",
      " 9   winner_age          41912 non-null  int64  \n",
      " 10  winner_rank         41912 non-null  int64  \n",
      " 11  winner_rank_points  41912 non-null  int64  \n",
      " 12  score               41912 non-null  object \n",
      " 13  best_of             41912 non-null  float64\n",
      " 14  round               41912 non-null  object \n",
      " 15  minutes             41912 non-null  float64\n",
      " 16  w_ace               41912 non-null  float64\n",
      " 17  w_df                41912 non-null  float64\n",
      " 18  w_svpt              41912 non-null  float64\n",
      " 19  w_1stIn             41912 non-null  float64\n",
      " 20  w_1stWon            41912 non-null  float64\n",
      " 21  w_2ndWon            41912 non-null  float64\n",
      " 22  w_SvGms             41912 non-null  float64\n",
      " 23  w_bpSaved           41912 non-null  float64\n",
      " 24  w_bpFaced           41912 non-null  float64\n",
      "dtypes: float64(13), int64(3), object(9)\n",
      "memory usage: 8.0+ MB\n"
     ]
    }
   ],
   "source": [
    "df.info()"
   ]
  },
  {
   "cell_type": "code",
   "execution_count": null,
   "metadata": {
    "id": "AswFmdCy2ieA",
    "outputId": "b3c25142-9812-40c0-ae43-ce4a474ecdce"
   },
   "outputs": [
    {
     "data": {
      "text/plain": [
       "956"
      ]
     },
     "execution_count": 27,
     "metadata": {},
     "output_type": "execute_result"
    }
   ],
   "source": [
    "#fetch the list of best 10\n",
    "df.groupby('winner_name')['winner_name'].count().max()"
   ]
  },
  {
   "cell_type": "markdown",
   "metadata": {
    "id": "n54pBI4k2ieA"
   },
   "source": [
    "### Best Tennis Player"
   ]
  },
  {
   "cell_type": "code",
   "execution_count": null,
   "metadata": {
    "id": "cPJH2gYH2ieA",
    "outputId": "617b69ee-eaa6-413e-8ee1-7842be400ce2"
   },
   "outputs": [
    {
     "data": {
      "text/plain": [
       "winner_name\n",
       "Roger Federer    956\n",
       "Name: winner_name, dtype: int64"
      ]
     },
     "execution_count": 28,
     "metadata": {},
     "output_type": "execute_result"
    }
   ],
   "source": [
    "#Best Tennis player of all time\n",
    "df.groupby('winner_name')['winner_name'].count().sort_values(ascending=False).head(1)"
   ]
  },
  {
   "cell_type": "markdown",
   "metadata": {
    "id": "LOqMQ4to2ieB"
   },
   "source": [
    "### Top 10 Players"
   ]
  },
  {
   "cell_type": "code",
   "execution_count": null,
   "metadata": {
    "id": "Mzt0gcX32ieB",
    "outputId": "5abe1d45-16e5-4be3-ef3b-e921564fa31d",
    "scrolled": true
   },
   "outputs": [
    {
     "data": {
      "text/plain": [
       "winner_name\n",
       "Roger Federer        956\n",
       "Rafael Nadal         712\n",
       "Novak Djokovic       617\n",
       "David Ferrer         611\n",
       "Andy Roddick         575\n",
       "Lleyton Hewitt       510\n",
       "Andy Murray          496\n",
       "Tommy Robredo        493\n",
       "Tomas Berdych        487\n",
       "Nikolay Davydenko    459\n",
       "Name: winner_name, dtype: int64"
      ]
     },
     "execution_count": 60,
     "metadata": {},
     "output_type": "execute_result"
    }
   ],
   "source": [
    "#The Top 10 Tennis Player\n",
    "top_10 = df.groupby('winner_name')['winner_name'].count().sort_values(ascending=False).head(10)\n",
    "top_10"
   ]
  },
  {
   "cell_type": "markdown",
   "metadata": {
    "id": "sqpV_qji2ieB"
   },
   "source": [
    "### The country of the top 10 players"
   ]
  },
  {
   "cell_type": "code",
   "execution_count": null,
   "metadata": {
    "id": "C7t6SaHa2ieB"
   },
   "outputs": [],
   "source": [
    "#df.reset_index(inplace=True)"
   ]
  },
  {
   "cell_type": "code",
   "execution_count": null,
   "metadata": {
    "id": "qoCXag042ieB"
   },
   "outputs": [],
   "source": [
    "Roger_loc = df.winner_ioc[df.winner_name == 'Roger Federer'].values[0]\n",
    "Rafeal_loc = df.winner_ioc[df.winner_name == 'Rafael Nadal'].values[0]\n",
    "Novak_loc = df.winner_ioc[df.winner_name == 'Novak Djokovic'].values[0]\n",
    "David_loc = df.winner_ioc[df.winner_name == 'David Ferrer'].values[0]\n",
    "AndyR_loc = df.winner_ioc[df.winner_name == 'Andy Roddick'].values[0]\n",
    "Lleyton_loc = df.winner_ioc[df.winner_name == 'Lleyton Hewitt'].values[0]\n",
    "AndyM_loc = df.winner_ioc[df.winner_name == 'Andy Murray'].values[0]\n",
    "Tommy_loc = df.winner_ioc[df.winner_name == 'Tommy Robredo'].values[0]\n",
    "Tomas_loc = df.winner_ioc[df.winner_name == 'Tomas Berdych'].values[0]\n",
    "Nikolay_loc = df.winner_ioc[df.winner_name == 'Nikolay Davydenko'].values[0]\n"
   ]
  },
  {
   "cell_type": "code",
   "execution_count": null,
   "metadata": {
    "id": "_kEjZaXv2ieB"
   },
   "outputs": [],
   "source": [
    "Top_10_location = {'location': (Roger_loc, Rafeal_loc, Novak_loc, David_loc, AndyR_loc, Lleyton_loc, \n",
    "                       AndyM_loc, Tommy_loc, Tomas_loc, Nikolay_loc)}\n",
    "Top_10_location = pd.DataFrame(Top_10_location, index=('Roger', 'Rafeal', 'Novak', 'David', 'AndyR', 'Lleyton', 'AndyM', 'Tommy', 'Tomas', 'NIkolay'), columns=['location'])"
   ]
  },
  {
   "cell_type": "code",
   "execution_count": null,
   "metadata": {
    "id": "FLdJNs-U2ieC",
    "outputId": "8a63d705-07d9-4916-e68a-de57cc224e68"
   },
   "outputs": [
    {
     "data": {
      "text/html": [
       "<div>\n",
       "<style scoped>\n",
       "    .dataframe tbody tr th:only-of-type {\n",
       "        vertical-align: middle;\n",
       "    }\n",
       "\n",
       "    .dataframe tbody tr th {\n",
       "        vertical-align: top;\n",
       "    }\n",
       "\n",
       "    .dataframe thead th {\n",
       "        text-align: right;\n",
       "    }\n",
       "</style>\n",
       "<table border=\"1\" class=\"dataframe\">\n",
       "  <thead>\n",
       "    <tr style=\"text-align: right;\">\n",
       "      <th></th>\n",
       "      <th>location</th>\n",
       "    </tr>\n",
       "  </thead>\n",
       "  <tbody>\n",
       "    <tr>\n",
       "      <th>Roger</th>\n",
       "      <td>SUI</td>\n",
       "    </tr>\n",
       "    <tr>\n",
       "      <th>Rafeal</th>\n",
       "      <td>ESP</td>\n",
       "    </tr>\n",
       "    <tr>\n",
       "      <th>Novak</th>\n",
       "      <td>SRB</td>\n",
       "    </tr>\n",
       "    <tr>\n",
       "      <th>David</th>\n",
       "      <td>ESP</td>\n",
       "    </tr>\n",
       "    <tr>\n",
       "      <th>AndyR</th>\n",
       "      <td>USA</td>\n",
       "    </tr>\n",
       "    <tr>\n",
       "      <th>Lleyton</th>\n",
       "      <td>AUS</td>\n",
       "    </tr>\n",
       "    <tr>\n",
       "      <th>AndyM</th>\n",
       "      <td>GBR</td>\n",
       "    </tr>\n",
       "    <tr>\n",
       "      <th>Tommy</th>\n",
       "      <td>ESP</td>\n",
       "    </tr>\n",
       "    <tr>\n",
       "      <th>Tomas</th>\n",
       "      <td>CZE</td>\n",
       "    </tr>\n",
       "    <tr>\n",
       "      <th>NIkolay</th>\n",
       "      <td>RUS</td>\n",
       "    </tr>\n",
       "  </tbody>\n",
       "</table>\n",
       "</div>"
      ],
      "text/plain": [
       "        location\n",
       "Roger        SUI\n",
       "Rafeal       ESP\n",
       "Novak        SRB\n",
       "David        ESP\n",
       "AndyR        USA\n",
       "Lleyton      AUS\n",
       "AndyM        GBR\n",
       "Tommy        ESP\n",
       "Tomas        CZE\n",
       "NIkolay      RUS"
      ]
     },
     "execution_count": 63,
     "metadata": {},
     "output_type": "execute_result"
    }
   ],
   "source": [
    "Top_10_location"
   ]
  },
  {
   "cell_type": "code",
   "execution_count": null,
   "metadata": {
    "id": "-BvtoSjc2ieC",
    "outputId": "708f149e-5256-4cf8-d0ea-ec4db00c1166",
    "scrolled": true
   },
   "outputs": [
    {
     "data": {
      "text/plain": [
       "<AxesSubplot:xlabel='location', ylabel='count'>"
      ]
     },
     "execution_count": 64,
     "metadata": {},
     "output_type": "execute_result"
    },
    {
     "data": {
      "image/png": "[encoded data removed]",
      "text/plain": [
       "<Figure size 432x288 with 1 Axes>"
      ]
     },
     "metadata": {
      "needs_background": "light"
     },
     "output_type": "display_data"
    }
   ],
   "source": [
    "sns.countplot(data=Top_10_location, x = 'location')"
   ]
  },
  {
   "cell_type": "code",
   "execution_count": null,
   "metadata": {
    "id": "-HPu-M7U2ieC"
   },
   "outputs": [],
   "source": []
  },
  {
   "cell_type": "markdown",
   "metadata": {
    "id": "PtUbHW6s2ieC"
   },
   "source": [
    "### Hands of the top 10 players"
   ]
  },
  {
   "cell_type": "code",
   "execution_count": null,
   "metadata": {
    "id": "pCJmDQsI2ieC"
   },
   "outputs": [],
   "source": [
    "Roger_hand = df.winner_hand[df.winner_name == 'Roger Federer'].values[0]\n",
    "Rafeal_hand = df.winner_hand[df.winner_name == 'Rafael Nadal'].values[0]\n",
    "Novak_hand = df.winner_hand[df.winner_name == 'Novak Djokovic'].values[0]\n",
    "David_hand = df.winner_hand[df.winner_name == 'David Ferrer'].values[0]\n",
    "AndyR_hand = df.winner_hand[df.winner_name == 'Andy Roddick'].values[0]\n",
    "Lleyton_hand = df.winner_hand[df.winner_name == 'Lleyton Hewitt'].values[0]\n",
    "AndyM_hand = df.winner_hand[df.winner_name == 'Andy Murray'].values[0]\n",
    "Tommy_hand = df.winner_hand[df.winner_name == 'Tommy Robredo'].values[0]\n",
    "Tomas_hand = df.winner_hand[df.winner_name == 'Tomas Berdych'].values[0]\n",
    "Nikolay_hand = df.winner_hand[df.winner_name == 'Nikolay Davydenko'].values[0]\n"
   ]
  },
  {
   "cell_type": "code",
   "execution_count": null,
   "metadata": {
    "id": "Qg0K0fDf2ieD"
   },
   "outputs": [],
   "source": [
    "Top_10_hand = {'hand': (Roger_hand, Rafeal_hand, Novak_hand, David_hand, AndyR_hand, Lleyton_hand, \n",
    "                       AndyM_hand, Tommy_hand, Tomas_hand, Nikolay_hand)}\n",
    "Top_10_hand = pd.DataFrame(Top_10_hand, index=('Roger', 'Rafeal', 'Novak', 'David', 'AndyR', 'Lleyton', 'AndyM', 'Tommy', 'Tomas', 'NIkolay'), columns=['hand'])"
   ]
  },
  {
   "cell_type": "code",
   "execution_count": null,
   "metadata": {
    "id": "JGuNQaQB2ieD",
    "outputId": "67f300e4-998b-4b51-fc17-9c4fa43f0e5d",
    "scrolled": true
   },
   "outputs": [
    {
     "data": {
      "text/html": [
       "<div>\n",
       "<style scoped>\n",
       "    .dataframe tbody tr th:only-of-type {\n",
       "        vertical-align: middle;\n",
       "    }\n",
       "\n",
       "    .dataframe tbody tr th {\n",
       "        vertical-align: top;\n",
       "    }\n",
       "\n",
       "    .dataframe thead th {\n",
       "        text-align: right;\n",
       "    }\n",
       "</style>\n",
       "<table border=\"1\" class=\"dataframe\">\n",
       "  <thead>\n",
       "    <tr style=\"text-align: right;\">\n",
       "      <th></th>\n",
       "      <th>hand</th>\n",
       "    </tr>\n",
       "  </thead>\n",
       "  <tbody>\n",
       "    <tr>\n",
       "      <th>Roger</th>\n",
       "      <td>R</td>\n",
       "    </tr>\n",
       "    <tr>\n",
       "      <th>Rafeal</th>\n",
       "      <td>L</td>\n",
       "    </tr>\n",
       "    <tr>\n",
       "      <th>Novak</th>\n",
       "      <td>R</td>\n",
       "    </tr>\n",
       "    <tr>\n",
       "      <th>David</th>\n",
       "      <td>R</td>\n",
       "    </tr>\n",
       "    <tr>\n",
       "      <th>AndyR</th>\n",
       "      <td>R</td>\n",
       "    </tr>\n",
       "    <tr>\n",
       "      <th>Lleyton</th>\n",
       "      <td>R</td>\n",
       "    </tr>\n",
       "    <tr>\n",
       "      <th>AndyM</th>\n",
       "      <td>R</td>\n",
       "    </tr>\n",
       "    <tr>\n",
       "      <th>Tommy</th>\n",
       "      <td>R</td>\n",
       "    </tr>\n",
       "    <tr>\n",
       "      <th>Tomas</th>\n",
       "      <td>R</td>\n",
       "    </tr>\n",
       "    <tr>\n",
       "      <th>NIkolay</th>\n",
       "      <td>R</td>\n",
       "    </tr>\n",
       "  </tbody>\n",
       "</table>\n",
       "</div>"
      ],
      "text/plain": [
       "        hand\n",
       "Roger      R\n",
       "Rafeal     L\n",
       "Novak      R\n",
       "David      R\n",
       "AndyR      R\n",
       "Lleyton    R\n",
       "AndyM      R\n",
       "Tommy      R\n",
       "Tomas      R\n",
       "NIkolay    R"
      ]
     },
     "execution_count": 67,
     "metadata": {},
     "output_type": "execute_result"
    }
   ],
   "source": [
    "Top_10_hand"
   ]
  },
  {
   "cell_type": "code",
   "execution_count": null,
   "metadata": {
    "id": "xdoEEyne2ieD",
    "outputId": "53137296-1a41-455a-eb19-120eb9fc4006",
    "scrolled": true
   },
   "outputs": [
    {
     "data": {
      "text/plain": [
       "<AxesSubplot:xlabel='hand', ylabel='count'>"
      ]
     },
     "execution_count": 68,
     "metadata": {},
     "output_type": "execute_result"
    },
    {
     "data": {
      "image/png": "[encoded data removed]",
      "text/plain": [
       "<Figure size 432x288 with 1 Axes>"
      ]
     },
     "metadata": {
      "needs_background": "light"
     },
     "output_type": "display_data"
    }
   ],
   "source": [
    "sns.countplot(data=Top_10_hand, x = 'hand')"
   ]
  },
  {
   "cell_type": "markdown",
   "metadata": {
    "id": "A8FMun8o2ieD"
   },
   "source": [
    "### Heights of the top 10 players"
   ]
  },
  {
   "cell_type": "code",
   "execution_count": null,
   "metadata": {
    "id": "Wk21KG5I2ieD",
    "outputId": "8273ca2d-6032-47fd-a08b-b1360e59a643",
    "scrolled": true
   },
   "outputs": [
    {
     "data": {
      "text/plain": [
       "<AxesSubplot:ylabel='hand'>"
      ]
     },
     "execution_count": 69,
     "metadata": {},
     "output_type": "execute_result"
    },
    {
     "data": {
      "image/png": "[encoded data removed]",
      "text/plain": [
       "<Figure size 360x360 with 1 Axes>"
      ]
     },
     "metadata": {},
     "output_type": "display_data"
    }
   ],
   "source": [
    "#Plot the pie chart for the top 10 hand\n",
    "hand_stat = Top_10_hand.hand.value_counts()\n",
    "hand_stat.plot(kind = 'pie', autopct= '%1.1f%%', startangle = 200, fontsize=12, figsize =(5,5))"
   ]
  },
  {
   "cell_type": "code",
   "execution_count": null,
   "metadata": {
    "id": "OAsyldbH2ieE"
   },
   "outputs": [],
   "source": [
    "Roger_ht = df.winner_ht[df.winner_name == 'Roger Federer'].values[0]\n",
    "Rafeal_ht = df.winner_ht[df.winner_name == 'Rafael Nadal'].values[0]\n",
    "Novak_ht = df.winner_ht[df.winner_name == 'Novak Djokovic'].values[0]\n",
    "David_ht = df.winner_ht[df.winner_name == 'David Ferrer'].values[0]\n",
    "AndyR_ht = df.winner_ht[df.winner_name == 'Andy Roddick'].values[0]\n",
    "Lleyton_ht = df.winner_ht[df.winner_name == 'Lleyton Hewitt'].values[0]\n",
    "AndyM_ht = df.winner_ht[df.winner_name == 'Andy Murray'].values[0]\n",
    "Tommy_ht = df.winner_ht[df.winner_name == 'Tommy Robredo'].values[0]\n",
    "Tomas_ht = df.winner_ht[df.winner_name == 'Tomas Berdych'].values[0]\n",
    "Nikolay_ht = df.winner_ht[df.winner_name == 'Nikolay Davydenko'].values[0]\n"
   ]
  },
  {
   "cell_type": "code",
   "execution_count": null,
   "metadata": {
    "id": "x-uI-WxF2ieE",
    "outputId": "1de18c14-947e-4b62-e2aa-827078430285",
    "scrolled": true
   },
   "outputs": [
    {
     "data": {
      "text/html": [
       "<div>\n",
       "<style scoped>\n",
       "    .dataframe tbody tr th:only-of-type {\n",
       "        vertical-align: middle;\n",
       "    }\n",
       "\n",
       "    .dataframe tbody tr th {\n",
       "        vertical-align: top;\n",
       "    }\n",
       "\n",
       "    .dataframe thead th {\n",
       "        text-align: right;\n",
       "    }\n",
       "</style>\n",
       "<table border=\"1\" class=\"dataframe\">\n",
       "  <thead>\n",
       "    <tr style=\"text-align: right;\">\n",
       "      <th></th>\n",
       "      <th>height</th>\n",
       "      <th>name</th>\n",
       "    </tr>\n",
       "  </thead>\n",
       "  <tbody>\n",
       "    <tr>\n",
       "      <th>0</th>\n",
       "      <td>185.0</td>\n",
       "      <td>Roger</td>\n",
       "    </tr>\n",
       "    <tr>\n",
       "      <th>1</th>\n",
       "      <td>185.0</td>\n",
       "      <td>Rafeal</td>\n",
       "    </tr>\n",
       "    <tr>\n",
       "      <th>2</th>\n",
       "      <td>188.0</td>\n",
       "      <td>Novak</td>\n",
       "    </tr>\n",
       "    <tr>\n",
       "      <th>3</th>\n",
       "      <td>175.0</td>\n",
       "      <td>David</td>\n",
       "    </tr>\n",
       "    <tr>\n",
       "      <th>4</th>\n",
       "      <td>188.0</td>\n",
       "      <td>AndyR</td>\n",
       "    </tr>\n",
       "    <tr>\n",
       "      <th>5</th>\n",
       "      <td>180.0</td>\n",
       "      <td>Lleyton</td>\n",
       "    </tr>\n",
       "    <tr>\n",
       "      <th>6</th>\n",
       "      <td>190.0</td>\n",
       "      <td>AndyM</td>\n",
       "    </tr>\n",
       "    <tr>\n",
       "      <th>7</th>\n",
       "      <td>180.0</td>\n",
       "      <td>Tommy</td>\n",
       "    </tr>\n",
       "    <tr>\n",
       "      <th>8</th>\n",
       "      <td>196.0</td>\n",
       "      <td>Tomas</td>\n",
       "    </tr>\n",
       "    <tr>\n",
       "      <th>9</th>\n",
       "      <td>178.0</td>\n",
       "      <td>NIkolay</td>\n",
       "    </tr>\n",
       "  </tbody>\n",
       "</table>\n",
       "</div>"
      ],
      "text/plain": [
       "   height     name\n",
       "0   185.0    Roger\n",
       "1   185.0   Rafeal\n",
       "2   188.0    Novak\n",
       "3   175.0    David\n",
       "4   188.0    AndyR\n",
       "5   180.0  Lleyton\n",
       "6   190.0    AndyM\n",
       "7   180.0    Tommy\n",
       "8   196.0    Tomas\n",
       "9   178.0  NIkolay"
      ]
     },
     "execution_count": 98,
     "metadata": {},
     "output_type": "execute_result"
    }
   ],
   "source": [
    "Top_10_ht = {'height': (Roger_ht, Rafeal_ht, Novak_ht, David_ht, AndyR_ht, Lleyton_ht, \n",
    "                       AndyM_ht, Tommy_ht, Tomas_ht, Nikolay_ht),\n",
    "            'name': ('Roger', 'Rafeal', 'Novak', 'David', 'AndyR', 'Lleyton', 'AndyM', 'Tommy', 'Tomas', 'NIkolay')}\n",
    "Top_10_ht = pd.DataFrame(Top_10_ht)\n",
    "Top_10_ht"
   ]
  },
  {
   "cell_type": "code",
   "execution_count": null,
   "metadata": {
    "id": "LIXPP7lT2ieE",
    "outputId": "a6a2bfe8-57d7-4572-cc72-0fa3b0577f00"
   },
   "outputs": [
    {
     "data": {
      "text/plain": [
       "185.59"
      ]
     },
     "execution_count": 73,
     "metadata": {},
     "output_type": "execute_result"
    }
   ],
   "source": [
    "height_total_avr = round(df.winner_ht.mean(), 2)\n",
    "height_total_avr"
   ]
  },
  {
   "cell_type": "code",
   "execution_count": null,
   "metadata": {
    "id": "pGBmJlu02ieE",
    "outputId": "9857d32f-5f94-452d-c01a-29f7cb52dfc8",
    "scrolled": false
   },
   "outputs": [
    {
     "data": {
      "image/png": "[encoded data removed]",
      "text/plain": [
       "<Figure size 864x648 with 1 Axes>"
      ]
     },
     "metadata": {
      "needs_background": "light"
     },
     "output_type": "display_data"
    }
   ],
   "source": [
    "x = Top_10_ht.name\n",
    "y = Top_10_ht.height\n",
    "\n",
    "plt.figure(figsize=(12, 9))\n",
    "plt.xticks(rotation= 90)\n",
    "plt.bar(x, y)\n",
    "plt.axhline(y=height_total_avr, ls='--', color='red')\n",
    "plt.show()"
   ]
  },
  {
   "cell_type": "markdown",
   "metadata": {
    "id": "KasTnSKN2ieF"
   },
   "source": [
    "The height has little inpact"
   ]
  },
  {
   "cell_type": "markdown",
   "metadata": {
    "id": "HKIuNFE82ieF"
   },
   "source": [
    "### Analysis of rank points"
   ]
  },
  {
   "cell_type": "code",
   "execution_count": null,
   "metadata": {
    "id": "lBbEF82p2ieF"
   },
   "outputs": [],
   "source": [
    "top_10_data = ['Roger Federer','Rafael Nadal','Novak Djokovic','David Ferrer','Andy Roddick','Lleyton Hewitt',\n",
    "                              'Andy Murray','Tommy Robredo','Tomas Berdych', 'Nikolay Davydenko']"
   ]
  },
  {
   "cell_type": "code",
   "execution_count": null,
   "metadata": {
    "id": "Sxh0uc2m2ieJ"
   },
   "outputs": [],
   "source": [
    "# Set name as index in the Dataframe\n",
    "#df.set_index(\"winner_name\", inplace = True)"
   ]
  },
  {
   "cell_type": "code",
   "execution_count": null,
   "metadata": {
    "id": "j5rGD_6u2ieK"
   },
   "outputs": [],
   "source": [
    "top_10_players_data = df[.loc[['Roger Federer','Rafael Nadal','Novak Djokovic','David Ferrer','Andy Roddick','Lleyton Hewitt',\n",
    "                              'Andy Murray','Tommy Robredo','Tomas Berdych', 'Nikolay Davydenko']]"
   ]
  },
  {
   "cell_type": "code",
   "execution_count": null,
   "metadata": {
    "id": "90LRBOrF2ieK",
    "outputId": "4e27af03-b366-4381-aba6-908490967ea7"
   },
   "outputs": [
    {
     "data": {
      "text/plain": [
       "winner_name    tourney_year\n",
       "Andy Murray    2005              4178\n",
       "               2006             34083\n",
       "               2007             71545\n",
       "               2008            112205\n",
       "               2009            517000\n",
       "                                ...  \n",
       "Tommy Robredo  2011             22400\n",
       "               2012              2215\n",
       "               2013             38885\n",
       "               2014             77690\n",
       "               2015             15700\n",
       "Name: winner_rank_points, Length: 139, dtype: int64"
      ]
     },
     "execution_count": 104,
     "metadata": {},
     "output_type": "execute_result"
    }
   ],
   "source": [
    "top_10_players_data.groupby(['winner_name', 'tourney_year'])['winner_rank_points'].sum()"
   ]
  },
  {
   "cell_type": "code",
   "execution_count": null,
   "metadata": {
    "id": "nY6f5UwI2ieK",
    "outputId": "44ff5dde-14ba-4651-82ec-548a6834494f"
   },
   "outputs": [
    {
     "data": {
      "text/plain": [
       "winner_name\n",
       "Roger Federer        6170870\n",
       "Novak Djokovic       5228278\n",
       "Rafael Nadal         5200351\n",
       "Andy Murray          2530326\n",
       "David Ferrer         2017031\n",
       "Andy Roddick         1661258\n",
       "Tomas Berdych        1441603\n",
       "Lleyton Hewitt       1158347\n",
       "Nikolay Davydenko    1004351\n",
       "Tommy Robredo         749472\n",
       "Name: winner_rank_points, dtype: int64"
      ]
     },
     "execution_count": 114,
     "metadata": {},
     "output_type": "execute_result"
    }
   ],
   "source": [
    "top_10_players_data.groupby(['winner_name'])['winner_rank_points'].sum().sort_values(ascending=False)"
   ]
  },
  {
   "cell_type": "code",
   "execution_count": null,
   "metadata": {
    "id": "SSdcDqou2ieK"
   },
   "outputs": [],
   "source": [
    "#'Roger Federer','Rafael Nadal','Novak Djokovic','David Ferrer','Andy Roddick','Lleyton Hewitt','Andy Murray','Tommy Robredo','Tomas Berdych', 'Nikolay Davydenko'"
   ]
  },
  {
   "cell_type": "code",
   "execution_count": null,
   "metadata": {
    "id": "CZ97mDnY2ieK",
    "outputId": "8a819cbb-a7d4-4679-e7ed-ee77e2b47ba3",
    "scrolled": true
   },
   "outputs": [
    {
     "data": {
      "text/plain": [
       "winner_name\n",
       "Novak Djokovic       8473.708266\n",
       "Rafael Nadal         7303.863764\n",
       "Roger Federer        6454.884937\n",
       "Andy Murray          5101.463710\n",
       "David Ferrer         3301.196399\n",
       "Tomas Berdych        2960.170431\n",
       "Andy Roddick         2889.144348\n",
       "Lleyton Hewitt       2271.268627\n",
       "Nikolay Davydenko    2188.128540\n",
       "Tommy Robredo        1520.227181\n",
       "Name: winner_rank_points, dtype: float64"
      ]
     },
     "execution_count": 111,
     "metadata": {},
     "output_type": "execute_result"
    }
   ],
   "source": [
    "top_10_players_data.groupby(['winner_name'])['winner_rank_points'].mean().sort_values(ascending=False)"
   ]
  },
  {
   "cell_type": "markdown",
   "metadata": {
    "id": "Y70pGjJc2ieK"
   },
   "source": [
    "### Yearly wins of the Top 3 Players"
   ]
  },
  {
   "cell_type": "code",
   "execution_count": null,
   "metadata": {
    "id": "yQDZKUC52ieL",
    "outputId": "aa307a66-7b9c-4df4-b015-97ea42680093"
   },
   "outputs": [
    {
     "data": {
      "text/plain": [
       "dtype('O')"
      ]
     },
     "execution_count": 30,
     "metadata": {},
     "output_type": "execute_result"
    }
   ],
   "source": [
    "df['tourney_date'].dtypes"
   ]
  },
  {
   "cell_type": "code",
   "execution_count": null,
   "metadata": {
    "id": "44DR5PJA2ieL",
    "outputId": "1ccee6d8-1e77-4ce0-f8cb-56c3345b3cde",
    "scrolled": true
   },
   "outputs": [
    {
     "data": {
      "text/plain": [
       "array([2000, 2001, 2002, 2003, 2004, 2005, 2006, 2007, 2008, 2009, 2010,\n",
       "       2011, 2012, 2013, 2014, 2015], dtype=int64)"
      ]
     },
     "execution_count": 31,
     "metadata": {},
     "output_type": "execute_result"
    }
   ],
   "source": [
    "#extract year from the tourney_date\n",
    "df['tourney_date'] = pd.to_datetime(df.tourney_date)\n",
    "df['tourney_year'] = df.tourney_date.dt.year\n",
    "df.tourney_year.unique()"
   ]
  },
  {
   "cell_type": "code",
   "execution_count": null,
   "metadata": {
    "id": "jvYuCMC82ieL"
   },
   "outputs": [],
   "source": [
    "#list of the names of our 3 top players\n",
    "top_players = ['Roger Federer', 'Rafael Nadal', 'Novak Djokovic']"
   ]
  },
  {
   "cell_type": "code",
   "execution_count": null,
   "metadata": {
    "id": "fknzP6jM2ieM",
    "scrolled": true
   },
   "outputs": [],
   "source": [
    "top_players_data = df[df['winner_name'].isin(top_players)]"
   ]
  },
  {
   "cell_type": "code",
   "execution_count": null,
   "metadata": {
    "id": "5_9rhPXj2ieM",
    "outputId": "642528f8-2d8e-4ddc-c51a-e6edde62c1ef"
   },
   "outputs": [
    {
     "data": {
      "text/plain": [
       "(2285, 27)"
      ]
     },
     "execution_count": 134,
     "metadata": {},
     "output_type": "execute_result"
    }
   ],
   "source": [
    "top_players_data.shape"
   ]
  },
  {
   "cell_type": "code",
   "execution_count": null,
   "metadata": {
    "id": "OjX55yRA2ieM",
    "outputId": "f3461f8c-6ff1-4a31-f4c2-d1d880db2a79"
   },
   "outputs": [
    {
     "data": {
      "text/plain": [
       "winner_name     tourney_year\n",
       "Novak Djokovic  2004             1\n",
       "                2005             9\n",
       "                2006            35\n",
       "                2007            65\n",
       "                2008            62\n",
       "                2009            78\n",
       "                2010            54\n",
       "                2011            70\n",
       "                2012            75\n",
       "                2013            67\n",
       "                2014            61\n",
       "                2015            40\n",
       "Rafael Nadal    2002             1\n",
       "                2003            14\n",
       "                2004            27\n",
       "                2005            75\n",
       "                2006            57\n",
       "                2007            74\n",
       "                2008            75\n",
       "                2009            62\n",
       "                2010            71\n",
       "                2011            63\n",
       "                2012            42\n",
       "                2013            79\n",
       "                2014            43\n",
       "                2015            29\n",
       "Roger Federer   2000            29\n",
       "                2001            46\n",
       "                2002            53\n",
       "                2003            68\n",
       "                2004            69\n",
       "                2005            75\n",
       "                2006            90\n",
       "                2007            66\n",
       "                2008            65\n",
       "                2009            59\n",
       "                2010            65\n",
       "                2011            61\n",
       "                2012            69\n",
       "                2013            48\n",
       "                2014            64\n",
       "                2015            29\n",
       "Name: tourney_year, dtype: int64"
      ]
     },
     "execution_count": 135,
     "metadata": {},
     "output_type": "execute_result"
    }
   ],
   "source": [
    "#total wins of the top 3 winners yearly\n",
    "top_players_data.groupby(['winner_name', 'tourney_year'])['tourney_year'].count()"
   ]
  },
  {
   "cell_type": "markdown",
   "metadata": {
    "id": "OFVObJl92ieM"
   },
   "source": [
    "### The surface where he's more strong"
   ]
  },
  {
   "cell_type": "code",
   "execution_count": null,
   "metadata": {
    "id": "W3U6P2k-2ieM",
    "outputId": "c53c728c-5fb8-41bd-a73c-88238a1e0669"
   },
   "outputs": [
    {
     "data": {
      "text/plain": [
       "surface\n",
       "Carpet     6.972973\n",
       "Clay       6.166667\n",
       "Grass     10.612403\n",
       "Hard       7.682432\n",
       "Name: w_ace, dtype: float64"
      ]
     },
     "execution_count": 44,
     "metadata": {},
     "output_type": "execute_result"
    }
   ],
   "source": [
    "top.groupby('surface')['w_ace'].mean()"
   ]
  },
  {
   "cell_type": "code",
   "execution_count": null,
   "metadata": {
    "id": "8XnDqBg02ieM",
    "outputId": "9130a950-4a7b-472e-ad93-817822fbdbd9"
   },
   "outputs": [
    {
     "data": {
      "text/plain": [
       "surface\n",
       "Carpet     37\n",
       "Clay      198\n",
       "Grass     129\n",
       "Hard      592\n",
       "Name: w_ace, dtype: int64"
      ]
     },
     "execution_count": 45,
     "metadata": {},
     "output_type": "execute_result"
    }
   ],
   "source": [
    "top.groupby('surface')['w_ace'].count()"
   ]
  },
  {
   "cell_type": "code",
   "execution_count": null,
   "metadata": {
    "id": "dqFO5RiZ2ieN",
    "outputId": "187ef5cf-be85-47e9-f158-cb7299862cc7"
   },
   "outputs": [
    {
     "data": {
      "text/plain": [
       "surface\n",
       "Carpet     37\n",
       "Clay      198\n",
       "Grass     129\n",
       "Hard      592\n",
       "Name: surface, dtype: int64"
      ]
     },
     "execution_count": 46,
     "metadata": {},
     "output_type": "execute_result"
    }
   ],
   "source": [
    "top.groupby('surface')['surface'].count()"
   ]
  },
  {
   "cell_type": "markdown",
   "metadata": {
    "id": "JtvICT5_2ieN"
   },
   "source": [
    "### Get the statistics of the hand"
   ]
  },
  {
   "cell_type": "code",
   "execution_count": null,
   "metadata": {
    "id": "bygQmNC02ieN",
    "outputId": "77eae8d1-261d-4f14-e1e7-f8a8ee4ab348"
   },
   "outputs": [
    {
     "data": {
      "text/plain": [
       "<AxesSubplot:xlabel='winner_hand', ylabel='count'>"
      ]
     },
     "execution_count": 47,
     "metadata": {},
     "output_type": "execute_result"
    },
    {
     "data": {
      "image/png": "[encoded data removed]",
      "text/plain": [
       "<Figure size 432x288 with 1 Axes>"
      ]
     },
     "metadata": {
      "needs_background": "light"
     },
     "output_type": "display_data"
    }
   ],
   "source": [
    "#statistics of the hands of each players\n",
    "sns.countplot(data=df, x='winner_hand')"
   ]
  },
  {
   "cell_type": "code",
   "execution_count": null,
   "metadata": {
    "id": "fhdZ3XGG2ieN",
    "outputId": "7b67eca3-fea9-4d6d-f9cc-42b121fb1064"
   },
   "outputs": [
    {
     "data": {
      "text/plain": [
       "<AxesSubplot:ylabel='winner_hand'>"
      ]
     },
     "execution_count": 49,
     "metadata": {},
     "output_type": "execute_result"
    },
    {
     "data": {
      "image/png": "[encoded data removed]",
      "text/plain": [
       "<Figure size 360x360 with 1 Axes>"
      ]
     },
     "metadata": {},
     "output_type": "display_data"
    }
   ],
   "source": [
    "#Plot the pie chart\n",
    "hand_stat = df.winner_hand.value_counts()\n",
    "hand_stat.plot(kind = 'pie', autopct= '%1.1f%%', startangle = 200, fontsize=12, figsize =(5,5))"
   ]
  },
  {
   "cell_type": "code",
   "execution_count": null,
   "metadata": {
    "id": "8zo16xE52ieN",
    "outputId": "f3aed79c-ade3-41dd-d6f2-83a559aaf986"
   },
   "outputs": [
    {
     "data": {
      "text/plain": [
       "<AxesSubplot:xlabel='winner_hand', ylabel='count'>"
      ]
     },
     "execution_count": 50,
     "metadata": {},
     "output_type": "execute_result"
    },
    {
     "data": {
      "image/png": "[encoded data removed]",
      "text/plain": [
       "<Figure size 432x288 with 1 Axes>"
      ]
     },
     "metadata": {
      "needs_background": "light"
     },
     "output_type": "display_data"
    }
   ],
   "source": [
    "sns.countplot(data=top_players_data, x='winner_hand')"
   ]
  },
  {
   "cell_type": "code",
   "execution_count": null,
   "metadata": {
    "id": "0OUusfxR2ieN"
   },
   "outputs": [],
   "source": []
  },
  {
   "cell_type": "markdown",
   "metadata": {
    "id": "g3VuuZh32ieO"
   },
   "source": [
    "### Statistics of the country with highest number of player"
   ]
  },
  {
   "cell_type": "code",
   "execution_count": null,
   "metadata": {
    "id": "kot925I52ieO",
    "outputId": "532319bd-cb27-4ea4-d284-2c57b7b0655e"
   },
   "outputs": [
    {
     "data": {
      "text/plain": [
       "winner_ioc\n",
       "ESP    6016\n",
       "FRA    4206\n",
       "USA    3755\n",
       "ARG    3186\n",
       "GER    2487\n",
       "RUS    2194\n",
       "CZE    1586\n",
       "SUI    1546\n",
       "CRO    1312\n",
       "AUS    1252\n",
       "ITA    1233\n",
       "SWE    1131\n",
       "SRB    1130\n",
       "GBR     996\n",
       "BEL     817\n",
       "CHI     688\n",
       "BRA     645\n",
       "NED     641\n",
       "AUT     617\n",
       "SVK     506\n",
       "Name: winner_ioc, dtype: int64"
      ]
     },
     "execution_count": 52,
     "metadata": {},
     "output_type": "execute_result"
    }
   ],
   "source": [
    "df.groupby('winner_ioc')['winner_ioc'].count().sort_values(ascending=False).head(20)"
   ]
  },
  {
   "cell_type": "code",
   "execution_count": null,
   "metadata": {
    "id": "93JzzTbx2ieO"
   },
   "outputs": [],
   "source": []
  },
  {
   "cell_type": "code",
   "execution_count": null,
   "metadata": {
    "id": "gRyyfEdU2ieO"
   },
   "outputs": [],
   "source": []
  },
  {
   "cell_type": "code",
   "execution_count": null,
   "metadata": {
    "id": "Z1s-hdYT2ieO"
   },
   "outputs": [],
   "source": []
  },
  {
   "cell_type": "code",
   "execution_count": null,
   "metadata": {
    "id": "FWluWitL2ieO"
   },
   "outputs": [],
   "source": []
  },
  {
   "cell_type": "code",
   "execution_count": null,
   "metadata": {
    "id": "2WbG0Ek02ieO"
   },
   "outputs": [],
   "source": []
  },
  {
   "cell_type": "code",
   "execution_count": null,
   "metadata": {
    "id": "H3xKhKma2ieO"
   },
   "outputs": [],
   "source": []
  },
  {
   "cell_type": "code",
   "execution_count": null,
   "metadata": {
    "id": "EFmupSme2ieO"
   },
   "outputs": [],
   "source": []
  },
  {
   "cell_type": "code",
   "execution_count": null,
   "metadata": {
    "id": "hT7rF4iK2ieO"
   },
   "outputs": [],
   "source": []
  },
  {
   "cell_type": "code",
   "execution_count": null,
   "metadata": {
    "id": "YtFREqTG2ieO"
   },
   "outputs": [],
   "source": []
  },
  {
   "cell_type": "code",
   "execution_count": null,
   "metadata": {
    "id": "ADHBSLy62ieP"
   },
   "outputs": [],
   "source": [
    "#corr_ = df.corr()"
   ]
  },
  {
   "cell_type": "code",
   "execution_count": null,
   "metadata": {
    "id": "4zr636Uv2ieP"
   },
   "outputs": [],
   "source": [
    "#plt.figure(figsize=(12, 6))\n",
    "#sns.heatmap(corr_, annot=True)"
   ]
  },
  {
   "cell_type": "code",
   "execution_count": null,
   "metadata": {
    "id": "UYmzQKm12ieP"
   },
   "outputs": [],
   "source": []
  },
  {
   "cell_type": "code",
   "execution_count": null,
   "metadata": {
    "id": "VV7RjWZt2ieP"
   },
   "outputs": [],
   "source": []
  },
  {
   "cell_type": "code",
   "execution_count": null,
   "metadata": {
    "id": "k8JjPx852ieP"
   },
   "outputs": [],
   "source": []
  },
  {
   "cell_type": "code",
   "execution_count": null,
   "metadata": {
    "id": "2iiycMHN2ieP"
   },
   "outputs": [],
   "source": []
  },
  {
   "cell_type": "code",
   "execution_count": null,
   "metadata": {
    "id": "avqobk4r2ieP"
   },
   "outputs": [],
   "source": []
  },
  {
   "cell_type": "code",
   "execution_count": null,
   "metadata": {
    "id": "NSWWdsZc2ieP"
   },
   "outputs": [],
   "source": []
  },
  {
   "cell_type": "code",
   "execution_count": null,
   "metadata": {
    "id": "QOBS9Ybu2ieQ"
   },
   "outputs": [],
   "source": []
  },
  {
   "cell_type": "code",
   "execution_count": null,
   "metadata": {
    "id": "Me5Rh5j52ieQ"
   },
   "outputs": [],
   "source": []
  },
  {
   "cell_type": "code",
   "execution_count": null,
   "metadata": {
    "id": "ZUeBYMa22ieQ"
   },
   "outputs": [],
   "source": []
  },
  {
   "cell_type": "code",
   "execution_count": null,
   "metadata": {
    "id": "9V9VOCR62ieQ"
   },
   "outputs": [],
   "source": []
  },
  {
   "cell_type": "code",
   "execution_count": null,
   "metadata": {
    "id": "iSi_8FbF2ieQ"
   },
   "outputs": [],
   "source": []
  },
  {
   "cell_type": "code",
   "execution_count": null,
   "metadata": {
    "id": "LLMgvJC92ieR"
   },
   "outputs": [],
   "source": []
  },
  {
   "cell_type": "code",
   "execution_count": null,
   "metadata": {
    "id": "hksaD6vp2ieR"
   },
   "outputs": [],
   "source": []
  },
  {
   "cell_type": "code",
   "execution_count": null,
   "metadata": {
    "id": "bkHq9bsJ2ieS"
   },
   "outputs": [],
   "source": []
  },
  {
   "cell_type": "code",
   "execution_count": null,
   "metadata": {
    "id": "l5cu81JV2ieS"
   },
   "outputs": [],
   "source": []
  },
  {
   "cell_type": "code",
   "execution_count": null,
   "metadata": {
    "id": "AVMgMY4R2ieS"
   },
   "outputs": [],
   "source": []
  },
  {
   "cell_type": "code",
   "execution_count": null,
   "metadata": {
    "id": "GS9TGHpa2ieS"
   },
   "outputs": [],
   "source": []
  },
  {
   "cell_type": "code",
   "execution_count": null,
   "metadata": {
    "id": "v9nEXo2Y2ieS"
   },
   "outputs": [],
   "source": []
  },
  {
   "cell_type": "code",
   "execution_count": null,
   "metadata": {
    "id": "5s8GNTk62ieS"
   },
   "outputs": [],
   "source": []
  },
  {
   "cell_type": "code",
   "execution_count": null,
   "metadata": {
    "id": "-9_5DrxI2ieS"
   },
   "outputs": [],
   "source": []
  }
 ],
 "metadata": {
  "colab": {
   "provenance": []
  },
  "kernelspec": {
   "display_name": "Python 3",
   "language": "python",
   "name": "python3"
  },
  "language_info": {
   "codemirror_mode": {
    "name": "ipython",
    "version": 3
   },
   "file_extension": ".py",
   "mimetype": "text/x-python",
   "name": "python",
   "nbconvert_exporter": "python",
   "pygments_lexer": "ipython3",
   "version": "3.7.6"
  }
 },
 "nbformat": 4,
 "nbformat_minor": 1
}
